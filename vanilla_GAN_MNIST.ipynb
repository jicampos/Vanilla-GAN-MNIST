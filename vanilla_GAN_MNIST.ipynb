{
  "nbformat": 4,
  "nbformat_minor": 0,
  "metadata": {
    "colab": {
      "name": "vanilla GAN - MNIST.ipynb",
      "provenance": [],
      "collapsed_sections": []
    },
    "kernelspec": {
      "name": "python3",
      "display_name": "Python 3"
    },
    "accelerator": "GPU",
    "widgets": {
      "application/vnd.jupyter.widget-state+json": {
        "2a9a0af54d23412f848ba2e5bb08b348": {
          "model_module": "@jupyter-widgets/controls",
          "model_name": "HBoxModel",
          "state": {
            "_view_name": "HBoxView",
            "_dom_classes": [],
            "_model_name": "HBoxModel",
            "_view_module": "@jupyter-widgets/controls",
            "_model_module_version": "1.5.0",
            "_view_count": null,
            "_view_module_version": "1.5.0",
            "box_style": "",
            "layout": "IPY_MODEL_095834c8e1774a48b5dd908d52f4b6ff",
            "_model_module": "@jupyter-widgets/controls",
            "children": [
              "IPY_MODEL_d0016128c99a407da5c70198f069e177",
              "IPY_MODEL_25adfccbabbe40639b967c4b675bf3b4"
            ]
          }
        },
        "095834c8e1774a48b5dd908d52f4b6ff": {
          "model_module": "@jupyter-widgets/base",
          "model_name": "LayoutModel",
          "state": {
            "_view_name": "LayoutView",
            "grid_template_rows": null,
            "right": null,
            "justify_content": null,
            "_view_module": "@jupyter-widgets/base",
            "overflow": null,
            "_model_module_version": "1.2.0",
            "_view_count": null,
            "flex_flow": null,
            "width": null,
            "min_width": null,
            "border": null,
            "align_items": null,
            "bottom": null,
            "_model_module": "@jupyter-widgets/base",
            "top": null,
            "grid_column": null,
            "overflow_y": null,
            "overflow_x": null,
            "grid_auto_flow": null,
            "grid_area": null,
            "grid_template_columns": null,
            "flex": null,
            "_model_name": "LayoutModel",
            "justify_items": null,
            "grid_row": null,
            "max_height": null,
            "align_content": null,
            "visibility": null,
            "align_self": null,
            "height": null,
            "min_height": null,
            "padding": null,
            "grid_auto_rows": null,
            "grid_gap": null,
            "max_width": null,
            "order": null,
            "_view_module_version": "1.2.0",
            "grid_template_areas": null,
            "object_position": null,
            "object_fit": null,
            "grid_auto_columns": null,
            "margin": null,
            "display": null,
            "left": null
          }
        },
        "d0016128c99a407da5c70198f069e177": {
          "model_module": "@jupyter-widgets/controls",
          "model_name": "IntProgressModel",
          "state": {
            "_view_name": "ProgressView",
            "style": "IPY_MODEL_207d77f380844855b74e2cda07430f6f",
            "_dom_classes": [],
            "description": "Dl Completed...: 100%",
            "_model_name": "IntProgressModel",
            "bar_style": "success",
            "max": 4,
            "_view_module": "@jupyter-widgets/controls",
            "_model_module_version": "1.5.0",
            "value": 4,
            "_view_count": null,
            "_view_module_version": "1.5.0",
            "orientation": "horizontal",
            "min": 0,
            "description_tooltip": null,
            "_model_module": "@jupyter-widgets/controls",
            "layout": "IPY_MODEL_4e0e86b7253041cb84ff67537c5854f7"
          }
        },
        "25adfccbabbe40639b967c4b675bf3b4": {
          "model_module": "@jupyter-widgets/controls",
          "model_name": "HTMLModel",
          "state": {
            "_view_name": "HTMLView",
            "style": "IPY_MODEL_2aa4810ac01143e48f4dd7206b758bb2",
            "_dom_classes": [],
            "description": "",
            "_model_name": "HTMLModel",
            "placeholder": "​",
            "_view_module": "@jupyter-widgets/controls",
            "_model_module_version": "1.5.0",
            "value": " 4/4 [00:00&lt;00:00,  6.08 file/s]",
            "_view_count": null,
            "_view_module_version": "1.5.0",
            "description_tooltip": null,
            "_model_module": "@jupyter-widgets/controls",
            "layout": "IPY_MODEL_fb842cf892d2413c95a801ac167add9a"
          }
        },
        "207d77f380844855b74e2cda07430f6f": {
          "model_module": "@jupyter-widgets/controls",
          "model_name": "ProgressStyleModel",
          "state": {
            "_view_name": "StyleView",
            "_model_name": "ProgressStyleModel",
            "description_width": "initial",
            "_view_module": "@jupyter-widgets/base",
            "_model_module_version": "1.5.0",
            "_view_count": null,
            "_view_module_version": "1.2.0",
            "bar_color": null,
            "_model_module": "@jupyter-widgets/controls"
          }
        },
        "4e0e86b7253041cb84ff67537c5854f7": {
          "model_module": "@jupyter-widgets/base",
          "model_name": "LayoutModel",
          "state": {
            "_view_name": "LayoutView",
            "grid_template_rows": null,
            "right": null,
            "justify_content": null,
            "_view_module": "@jupyter-widgets/base",
            "overflow": null,
            "_model_module_version": "1.2.0",
            "_view_count": null,
            "flex_flow": null,
            "width": null,
            "min_width": null,
            "border": null,
            "align_items": null,
            "bottom": null,
            "_model_module": "@jupyter-widgets/base",
            "top": null,
            "grid_column": null,
            "overflow_y": null,
            "overflow_x": null,
            "grid_auto_flow": null,
            "grid_area": null,
            "grid_template_columns": null,
            "flex": null,
            "_model_name": "LayoutModel",
            "justify_items": null,
            "grid_row": null,
            "max_height": null,
            "align_content": null,
            "visibility": null,
            "align_self": null,
            "height": null,
            "min_height": null,
            "padding": null,
            "grid_auto_rows": null,
            "grid_gap": null,
            "max_width": null,
            "order": null,
            "_view_module_version": "1.2.0",
            "grid_template_areas": null,
            "object_position": null,
            "object_fit": null,
            "grid_auto_columns": null,
            "margin": null,
            "display": null,
            "left": null
          }
        },
        "2aa4810ac01143e48f4dd7206b758bb2": {
          "model_module": "@jupyter-widgets/controls",
          "model_name": "DescriptionStyleModel",
          "state": {
            "_view_name": "StyleView",
            "_model_name": "DescriptionStyleModel",
            "description_width": "",
            "_view_module": "@jupyter-widgets/base",
            "_model_module_version": "1.5.0",
            "_view_count": null,
            "_view_module_version": "1.2.0",
            "_model_module": "@jupyter-widgets/controls"
          }
        },
        "fb842cf892d2413c95a801ac167add9a": {
          "model_module": "@jupyter-widgets/base",
          "model_name": "LayoutModel",
          "state": {
            "_view_name": "LayoutView",
            "grid_template_rows": null,
            "right": null,
            "justify_content": null,
            "_view_module": "@jupyter-widgets/base",
            "overflow": null,
            "_model_module_version": "1.2.0",
            "_view_count": null,
            "flex_flow": null,
            "width": null,
            "min_width": null,
            "border": null,
            "align_items": null,
            "bottom": null,
            "_model_module": "@jupyter-widgets/base",
            "top": null,
            "grid_column": null,
            "overflow_y": null,
            "overflow_x": null,
            "grid_auto_flow": null,
            "grid_area": null,
            "grid_template_columns": null,
            "flex": null,
            "_model_name": "LayoutModel",
            "justify_items": null,
            "grid_row": null,
            "max_height": null,
            "align_content": null,
            "visibility": null,
            "align_self": null,
            "height": null,
            "min_height": null,
            "padding": null,
            "grid_auto_rows": null,
            "grid_gap": null,
            "max_width": null,
            "order": null,
            "_view_module_version": "1.2.0",
            "grid_template_areas": null,
            "object_position": null,
            "object_fit": null,
            "grid_auto_columns": null,
            "margin": null,
            "display": null,
            "left": null
          }
        }
      }
    }
  },
  "cells": [
    {
      "cell_type": "code",
      "metadata": {
        "id": "JDir3RQVsvPT",
        "colab_type": "code",
        "colab": {}
      },
      "source": [
        "!pip install -q tensorflow-gpu==2.0.0"
      ],
      "execution_count": 0,
      "outputs": []
    },
    {
      "cell_type": "code",
      "metadata": {
        "id": "yOEf7iurtPSF",
        "colab_type": "code",
        "outputId": "571d5d0f-c52c-45cc-a9b9-a90be3b709bb",
        "colab": {
          "base_uri": "https://localhost:8080/",
          "height": 34
        }
      },
      "source": [
        "import tensorflow as tf\n",
        "print(tf.__version__)"
      ],
      "execution_count": 0,
      "outputs": [
        {
          "output_type": "stream",
          "text": [
            "2.2.0-rc3\n"
          ],
          "name": "stdout"
        }
      ]
    },
    {
      "cell_type": "code",
      "metadata": {
        "id": "8eHlbmL1to0a",
        "colab_type": "code",
        "outputId": "a49a2774-e0d1-48b5-d33d-1e47bb3d3a2e",
        "colab": {
          "base_uri": "https://localhost:8080/",
          "height": 86
        }
      },
      "source": [
        "print(\"GPU Availabe:\", tf.test.is_gpu_available())"
      ],
      "execution_count": 0,
      "outputs": [
        {
          "output_type": "stream",
          "text": [
            "WARNING:tensorflow:From <ipython-input-3-6677213edc6f>:1: is_gpu_available (from tensorflow.python.framework.test_util) is deprecated and will be removed in a future version.\n",
            "Instructions for updating:\n",
            "Use `tf.config.list_physical_devices('GPU')` instead.\n",
            "GPU Availabe: True\n"
          ],
          "name": "stdout"
        }
      ]
    },
    {
      "cell_type": "code",
      "metadata": {
        "id": "yuWgE-Owtwl7",
        "colab_type": "code",
        "outputId": "47068662-43b3-4e0b-e796-5c353660e333",
        "colab": {
          "base_uri": "https://localhost:8080/",
          "height": 34
        }
      },
      "source": [
        "if tf.test.is_gpu_available():\n",
        "  device_name = tf.test.gpu_device_name()\n",
        "else:\n",
        "  device_name = '/CPU:0'\n",
        "print(device_name)"
      ],
      "execution_count": 0,
      "outputs": [
        {
          "output_type": "stream",
          "text": [
            "/device:GPU:0\n"
          ],
          "name": "stdout"
        }
      ]
    },
    {
      "cell_type": "code",
      "metadata": {
        "id": "2r56nkUeuS9m",
        "colab_type": "code",
        "colab": {}
      },
      "source": [
        "import tensorflow as tf\n",
        "import tensorflow_datasets as tfds\n",
        "import numpy as np\n",
        "import matplotlib.pyplot as plt"
      ],
      "execution_count": 0,
      "outputs": []
    },
    {
      "cell_type": "code",
      "metadata": {
        "id": "zGAXZHbCvsnT",
        "colab_type": "code",
        "colab": {}
      },
      "source": [
        "## define a function for the generator\n",
        "def make_generator_network(\n",
        "        num_hidden_layers=1,\n",
        "        num_hidden_units=100,\n",
        "        num_output_units=784):\n",
        "  \n",
        "  model = tf.keras.Sequential()\n",
        "  for i in range(num_hidden_layers):\n",
        "    model.add(\n",
        "        tf.keras.layers.Dense(\n",
        "            units=num_hidden_units, use_bias=False))\n",
        "    model.add(tf.keras.layers.LeakyReLU())\n",
        "  \n",
        "  model.add(tf.keras.layers.Dense(units=num_output_units, activation='tanh'))\n",
        "  return model\n",
        "\n",
        "## define a function for the discriminator\n",
        "def make_discriminator_network(\n",
        "      num_hidden_layers=1, \n",
        "      num_hidden_units=100, \n",
        "      num_output_units=1):\n",
        "  \n",
        "  model = tf.keras.Sequential()\n",
        "  for i in range(num_hidden_layers):\n",
        "    model.add(tf.keras.layers.Dense(\n",
        "        units=num_hidden_units))\n",
        "    model.add(tf.keras.layers.LeakyReLU())\n",
        "    model.add(tf.keras.layers.Dropout(rate=0.5))\n",
        "  \n",
        "  model.add(\n",
        "      tf.keras.layers.Dense(units=num_output_units, activation=None))\n",
        "  return model\n",
        "\n"
      ],
      "execution_count": 0,
      "outputs": []
    },
    {
      "cell_type": "code",
      "metadata": {
        "id": "BDy7kumjyAxZ",
        "colab_type": "code",
        "colab": {}
      },
      "source": [
        "image_size = (28, 28)\n",
        "z_size = 20\n",
        "mode_z = 'uniform'\n",
        "gen_hidden_layers = 1\n",
        "gen_hidden_size = 100\n",
        "disc_hidden_layers = 1\n",
        "disc_hidden_size = 100"
      ],
      "execution_count": 0,
      "outputs": []
    },
    {
      "cell_type": "code",
      "metadata": {
        "id": "mdGsmpl3ylVM",
        "colab_type": "code",
        "colab": {}
      },
      "source": [
        "tf.random.set_seed(1)"
      ],
      "execution_count": 0,
      "outputs": []
    },
    {
      "cell_type": "code",
      "metadata": {
        "id": "0OtKdw5oypSi",
        "colab_type": "code",
        "outputId": "3d9ac2f7-83dc-49af-cd56-28775e649e64",
        "colab": {
          "base_uri": "https://localhost:8080/",
          "height": 260
        }
      },
      "source": [
        "gen_model = make_generator_network(\n",
        "    num_hidden_layers = gen_hidden_layers,\n",
        "    num_hidden_units = gen_hidden_size,\n",
        "    num_output_units = np.prod(image_size))\n",
        "\n",
        "gen_model.build(input_shape=(None, z_size))\n",
        "gen_model.summary()"
      ],
      "execution_count": 0,
      "outputs": [
        {
          "output_type": "stream",
          "text": [
            "Model: \"sequential\"\n",
            "_________________________________________________________________\n",
            "Layer (type)                 Output Shape              Param #   \n",
            "=================================================================\n",
            "dense (Dense)                multiple                  2000      \n",
            "_________________________________________________________________\n",
            "leaky_re_lu (LeakyReLU)      multiple                  0         \n",
            "_________________________________________________________________\n",
            "dense_1 (Dense)              multiple                  79184     \n",
            "=================================================================\n",
            "Total params: 81,184\n",
            "Trainable params: 81,184\n",
            "Non-trainable params: 0\n",
            "_________________________________________________________________\n"
          ],
          "name": "stdout"
        }
      ]
    },
    {
      "cell_type": "code",
      "metadata": {
        "id": "r0vjQjfE03Fm",
        "colab_type": "code",
        "outputId": "181816e6-e94f-4927-87ec-c5bd5fcca301",
        "colab": {
          "base_uri": "https://localhost:8080/",
          "height": 295
        }
      },
      "source": [
        "disc_model = make_discriminator_network(\n",
        "    num_hidden_layers = disc_hidden_layers,\n",
        "    num_hidden_units = disc_hidden_size)\n",
        "\n",
        "disc_model.build(input_shape=(None, np.prod(image_size)))\n",
        "disc_model.summary()"
      ],
      "execution_count": 0,
      "outputs": [
        {
          "output_type": "stream",
          "text": [
            "Model: \"sequential_1\"\n",
            "_________________________________________________________________\n",
            "Layer (type)                 Output Shape              Param #   \n",
            "=================================================================\n",
            "dense_2 (Dense)              multiple                  78500     \n",
            "_________________________________________________________________\n",
            "leaky_re_lu_1 (LeakyReLU)    multiple                  0         \n",
            "_________________________________________________________________\n",
            "dropout (Dropout)            multiple                  0         \n",
            "_________________________________________________________________\n",
            "dense_3 (Dense)              multiple                  101       \n",
            "=================================================================\n",
            "Total params: 78,601\n",
            "Trainable params: 78,601\n",
            "Non-trainable params: 0\n",
            "_________________________________________________________________\n"
          ],
          "name": "stdout"
        }
      ]
    },
    {
      "cell_type": "code",
      "metadata": {
        "id": "nHwCdwUz1M4E",
        "colab_type": "code",
        "outputId": "1d028b49-61e2-445a-e492-cce0fa103e85",
        "colab": {
          "base_uri": "https://localhost:8080/",
          "height": 205,
          "referenced_widgets": [
            "2a9a0af54d23412f848ba2e5bb08b348",
            "095834c8e1774a48b5dd908d52f4b6ff",
            "d0016128c99a407da5c70198f069e177",
            "25adfccbabbe40639b967c4b675bf3b4",
            "207d77f380844855b74e2cda07430f6f",
            "4e0e86b7253041cb84ff67537c5854f7",
            "2aa4810ac01143e48f4dd7206b758bb2",
            "fb842cf892d2413c95a801ac167add9a"
          ]
        }
      },
      "source": [
        "## Defining the training dataset\n",
        "mnist_bldr = tfds.builder('mnist')\n",
        "mnist_bldr.download_and_prepare()\n",
        "mnist = mnist_bldr.as_dataset(shuffle_files=False)"
      ],
      "execution_count": 0,
      "outputs": [
        {
          "output_type": "stream",
          "text": [
            "WARNING:absl:Dataset mnist is hosted on GCS. It will automatically be downloaded to your\n",
            "local data directory. If you'd instead prefer to read directly from our public\n",
            "GCS bucket (recommended if you're running on GCP), you can instead set\n",
            "data_dir=gs://tfds-data/datasets.\n",
            "\n"
          ],
          "name": "stderr"
        },
        {
          "output_type": "stream",
          "text": [
            "\u001b[1mDownloading and preparing dataset mnist/3.0.0 (download: 11.06 MiB, generated: Unknown size, total: 11.06 MiB) to /root/tensorflow_datasets/mnist/3.0.0...\u001b[0m\n"
          ],
          "name": "stdout"
        },
        {
          "output_type": "display_data",
          "data": {
            "application/vnd.jupyter.widget-view+json": {
              "model_id": "2a9a0af54d23412f848ba2e5bb08b348",
              "version_minor": 0,
              "version_major": 2
            },
            "text/plain": [
              "HBox(children=(IntProgress(value=0, description='Dl Completed...', max=4, style=ProgressStyle(description_widt…"
            ]
          },
          "metadata": {
            "tags": []
          }
        },
        {
          "output_type": "stream",
          "text": [
            "\n",
            "\n",
            "\u001b[1mDataset mnist downloaded and prepared to /root/tensorflow_datasets/mnist/3.0.0. Subsequent calls will reuse this data.\u001b[0m\n"
          ],
          "name": "stdout"
        }
      ]
    },
    {
      "cell_type": "code",
      "metadata": {
        "id": "2hjScW4y2Q-E",
        "colab_type": "code",
        "colab": {}
      },
      "source": [
        "def preprocess(ex, mode='uniform'):\n",
        "  image = ex['image']\n",
        "  image = tf.image.convert_image_dtype(image, tf.float32)\n",
        "  image = tf.reshape(image, [-1])\n",
        "  image = image*2-1.0\n",
        "  if mode == 'uniform':\n",
        "    input_z = tf.random.uniform(\n",
        "        shape=(z_size,), minval=-1.0, maxval=1.0)\n",
        "  elif mode == 'normal':\n",
        "    input_z = tf.random_normal(shape=(z_size,))\n",
        "  \n",
        "  return input_z, image\n",
        "\n",
        "mnist_trainset = mnist['train']\n",
        "mnist_trainset = mnist_trainset.map(preprocess)\n"
      ],
      "execution_count": 0,
      "outputs": []
    },
    {
      "cell_type": "code",
      "metadata": {
        "id": "1BeiYLmN3a4-",
        "colab_type": "code",
        "outputId": "decca93d-f20a-4104-9632-ab47529b707f",
        "colab": {
          "base_uri": "https://localhost:8080/",
          "height": 52
        }
      },
      "source": [
        "mnist_trainset = mnist_trainset.batch(32, drop_remainder=True)\n",
        "input_z, input_real = next(iter(mnist_trainset))\n",
        "print('input-z -- shape: ', input_z.shape)\n",
        "print('input-real -- shape: ', input_real.shape)"
      ],
      "execution_count": 0,
      "outputs": [
        {
          "output_type": "stream",
          "text": [
            "input-z -- shape:  (32, 20)\n",
            "input-real -- shape:  (32, 784)\n"
          ],
          "name": "stdout"
        }
      ]
    },
    {
      "cell_type": "code",
      "metadata": {
        "id": "KCm9YPb15skg",
        "colab_type": "code",
        "outputId": "d408de47-921c-4d01-9e14-5d3bdad218f5",
        "colab": {
          "base_uri": "https://localhost:8080/",
          "height": 34
        }
      },
      "source": [
        "g_output = gen_model(input_z)\n",
        "print('Output of G -- shape: ', g_output.shape)"
      ],
      "execution_count": 0,
      "outputs": [
        {
          "output_type": "stream",
          "text": [
            "Output of G -- shape:  (32, 784)\n"
          ],
          "name": "stdout"
        }
      ]
    },
    {
      "cell_type": "code",
      "metadata": {
        "id": "xdtQIchU6FyE",
        "colab_type": "code",
        "outputId": "03b544b6-69a7-47a6-ff3f-951d1883155a",
        "colab": {
          "base_uri": "https://localhost:8080/",
          "height": 52
        }
      },
      "source": [
        "d_logits_real = disc_model(input_real)\n",
        "d_logits_fake = disc_model(g_output)\n",
        "print('Disc. (real) -- shape: ', d_logits_real.shape)\n",
        "print('Disc. (fake) -- shape: ', d_logits_fake.shape)"
      ],
      "execution_count": 0,
      "outputs": [
        {
          "output_type": "stream",
          "text": [
            "Disc. (real) -- shape:  (32, 1)\n",
            "Disc. (fake) -- shape:  (32, 1)\n"
          ],
          "name": "stdout"
        }
      ]
    },
    {
      "cell_type": "code",
      "metadata": {
        "id": "Ou1U8DDh73DW",
        "colab_type": "code",
        "outputId": "5cfeead2-8ed0-4c66-91d0-e2d0cac6ff89",
        "colab": {
          "base_uri": "https://localhost:8080/",
          "height": 52
        }
      },
      "source": [
        "## Training the GAN model\n",
        "loss_fn = tf.keras.losses.BinaryCrossentropy(from_logits=True)\n",
        "\n",
        "## Loss for the generator\n",
        "g_labels_real = tf.ones_like(d_logits_fake)\n",
        "g_loss = loss_fn(y_true=g_labels_real, y_pred=d_logits_fake)\n",
        "print('Generator Loss: {:.4f}'.format(g_loss))\n",
        "\n",
        "## Loss for the discriminator\n",
        "d_labels_real = tf.ones_like(d_logits_real)\n",
        "d_labels_fake = tf.zeros_like(d_logits_fake)\n",
        "\n",
        "d_loss_real = loss_fn(y_true=d_labels_real, y_pred=d_logits_real)\n",
        "d_loss_fake = loss_fn(y_true=d_labels_fake, y_pred=d_logits_fake)\n",
        "print('Discriminator Losses: Real {:.4f} Fake {:.4f}'.format(d_loss_real.numpy(), d_loss_fake.numpy()))\n"
      ],
      "execution_count": 0,
      "outputs": [
        {
          "output_type": "stream",
          "text": [
            "Generator Loss: 0.7355\n",
            "Discriminator Losses: Real 1.5073 Fake 0.6583\n"
          ],
          "name": "stdout"
        }
      ]
    },
    {
      "cell_type": "code",
      "metadata": {
        "id": "D9SCf6F8L-xr",
        "colab_type": "code",
        "colab": {}
      },
      "source": [
        "import time \n",
        "\n",
        "num_epochs = 100\n",
        "batch_size = 64\n",
        "image_size = (28, 28)\n",
        "z_size = 20\n",
        "mode_z = 'uniform'\n",
        "gen_hidden_layers = 1\n",
        "gen_hidden_size = 100\n",
        "disc_hidden_layers = 1\n",
        "disc_hidden_size = 100"
      ],
      "execution_count": 0,
      "outputs": []
    },
    {
      "cell_type": "code",
      "metadata": {
        "id": "kOketG-4MmqP",
        "colab_type": "code",
        "colab": {}
      },
      "source": [
        "tf.random.set_seed(1)\n",
        "np.random.seed(1)"
      ],
      "execution_count": 0,
      "outputs": []
    },
    {
      "cell_type": "code",
      "metadata": {
        "id": "2V4Ey9RbMtUp",
        "colab_type": "code",
        "colab": {}
      },
      "source": [
        "if mode_z == 'uniform':\n",
        "  fixed_z = tf.random.uniform(\n",
        "      shape=(batch_size, z_size),\n",
        "      minval = -1, maxval = 1)\n",
        "elif mode_z == 'normal':\n",
        "  fixed_z = tf.random.uniform(\n",
        "      shape=(batch_size, z_size))\n",
        "\n",
        "def create_samples(g_model, input_z):\n",
        "  g_ouput = g_model(input_z, training=False)\n",
        "  images = tf.reshape(g_output, shape=(batch_size, *image_size))\n",
        "  return (images+1)/2.0\n"
      ],
      "execution_count": 0,
      "outputs": []
    },
    {
      "cell_type": "code",
      "metadata": {
        "id": "B-HF7GlWNt45",
        "colab_type": "code",
        "colab": {}
      },
      "source": [
        "## Set-up the dateset\n",
        "mnist_trainset = mnist['train']\n",
        "mnist_trainset = mnist_trainset.map(\n",
        "    lambda ex: preprocess(ex, mode=mode_z))\n",
        "mnist_trainset = mnist_trainset.shuffle(10000)\n",
        "mnist_trainset = mnist_trainset.batch(\n",
        "    batch_size, drop_remainder=True)\n"
      ],
      "execution_count": 0,
      "outputs": []
    },
    {
      "cell_type": "code",
      "metadata": {
        "id": "HmHUbog1OSwN",
        "colab_type": "code",
        "outputId": "a9fed02e-6c76-46de-84ad-d53ed5597ac6",
        "colab": {
          "base_uri": "https://localhost:8080/",
          "height": 1000
        }
      },
      "source": [
        "## Set-up the model\n",
        "with tf.device(device_name):\n",
        "  gen_model = make_generator_network(\n",
        "    num_hidden_layers = gen_hidden_layers,\n",
        "    num_hidden_units = gen_hidden_size,\n",
        "    num_output_units = np.prod(image_size))\n",
        "  gen_model.build(input_shape=(None, z_size))\n",
        "\n",
        "  disc_model = make_discriminator_network(\n",
        "    num_hidden_layers = disc_hidden_layers,\n",
        "    num_hidden_units = disc_hidden_size)\n",
        "  disc_model.build(input_shape=(None, np.prod(image_size)))\n",
        "\n",
        "## Loss function and optimizers\n",
        "loss_fn = tf.keras.losses.BinaryCrossentropy(from_logits=True)\n",
        "g_optimizer = tf.keras.optimizers.Adam()\n",
        "d_optimizer = tf.keras.optimizers.Adam()\n",
        "\n",
        "all_losses = []\n",
        "all_d_vals = []\n",
        "epoch_samples = []\n",
        "\n",
        "start_time = time.time()\n",
        "for epoch in range(1, num_epochs+1):\n",
        "\n",
        "  epoch_losses, epoch_d_vals = [], []\n",
        "\n",
        "  for i, (input_z, input_real) in enumerate(mnist_trainset):\n",
        "\n",
        "    ## compute generator's losses\n",
        "    with tf.GradientTape() as g_tape:\n",
        "      g_output = gen_model(input_z)\n",
        "      d_logits_fake = disc_model(g_output, training=True)\n",
        "\n",
        "      labels_real = tf.ones_like(d_logits_fake)\n",
        "      g_loss = loss_fn(y_true=labels_real, y_pred=d_logits_fake)\n",
        "\n",
        "    ## compute the gradients of g_loss\n",
        "    g_grads = g_tape.gradient(g_loss, gen_model.trainable_variables)\n",
        "    ## optimization: apply the gradients\n",
        "    g_optimizer.apply_gradients(\n",
        "            grads_and_vars=zip(g_grads, gen_model.trainable_variables))\n",
        "    \n",
        "    ## compute discriminator's loss\n",
        "    with tf.GradientTape() as d_tape:\n",
        "      d_logits_real = disc_model(input_real, training=True)\n",
        "      d_labels_real = tf.ones_like(d_logits_real)\n",
        "\n",
        "      d_loss_real = loss_fn(y_true=d_labels_real, y_pred=d_logits_real)\n",
        "      \n",
        "      d_logits_fake = disc_model(g_output, training=True)\n",
        "      d_labels_fake = tf.zeros_like(d_logits_fake)\n",
        "      \n",
        "      d_loss_fake = loss_fn(y_true=d_labels_fake, y_pred=d_logits_fake)\n",
        "\n",
        "      # add both losses\n",
        "      d_loss = d_loss_real + d_loss_fake\n",
        "    \n",
        "    ## compute the gradients of d_loss\n",
        "    d_grads = d_tape.gradient(d_loss, disc_model.trainable_variables)\n",
        "    ## optimization: apply the gradients\n",
        "    d_optimizer.apply_gradients(\n",
        "        grads_and_vars=zip(d_grads, disc_model.trainable_variables))\n",
        "    \n",
        "    epoch_losses.append(\n",
        "        (g_loss.numpy(), d_loss.numpy(), \n",
        "         d_loss_real.numpy(), d_loss_fake.numpy()))\n",
        "    \n",
        "    d_probs_real = tf.reduce_mean(\n",
        "                        tf.sigmoid(d_logits_real))\n",
        "    d_probs_fake = tf.reduce_mean(\n",
        "                        tf.sigmoid(d_logits_fake))\n",
        "    epoch_d_vals.append((d_probs_real.numpy(), d_probs_fake.numpy()))\n",
        "\n",
        "  all_losses.append(epoch_losses)\n",
        "  all_d_vals.append(epoch_d_vals)\n",
        "\n",
        "  print(\n",
        "        'Epoch {:03d} | ET {:.2f} min | Avg Losses >>'\n",
        "        ' G/D {:.4f}/{:.4f} [D-Real: {:.4f} D-Fake: {:.4f}]'\n",
        "        .format(\n",
        "            epoch, (time.time() - start_time)/60, \n",
        "            *list(np.mean(all_losses[-1], axis=0))))\n",
        "  epoch_samples.append(create_samples(gen_model, fixed_z).numpy())\n",
        "    "
      ],
      "execution_count": 0,
      "outputs": [
        {
          "output_type": "stream",
          "text": [
            "Epoch 001 | ET 0.40 min | Avg Losses >> G/D 3.0023/0.2510 [D-Real: 0.0240 D-Fake: 0.2270]\n",
            "Epoch 002 | ET 0.80 min | Avg Losses >> G/D 5.0043/0.3264 [D-Real: 0.1120 D-Fake: 0.2144]\n",
            "Epoch 003 | ET 1.21 min | Avg Losses >> G/D 3.3665/0.7167 [D-Real: 0.3221 D-Fake: 0.3946]\n",
            "Epoch 004 | ET 1.61 min | Avg Losses >> G/D 2.3057/0.8261 [D-Real: 0.4280 D-Fake: 0.3981]\n",
            "Epoch 005 | ET 2.02 min | Avg Losses >> G/D 1.9693/0.8331 [D-Real: 0.4598 D-Fake: 0.3733]\n",
            "Epoch 006 | ET 2.43 min | Avg Losses >> G/D 1.8931/0.8960 [D-Real: 0.4812 D-Fake: 0.4147]\n",
            "Epoch 007 | ET 2.83 min | Avg Losses >> G/D 1.5079/1.0020 [D-Real: 0.5379 D-Fake: 0.4642]\n",
            "Epoch 008 | ET 3.23 min | Avg Losses >> G/D 1.5687/0.9452 [D-Real: 0.5280 D-Fake: 0.4172]\n",
            "Epoch 009 | ET 3.64 min | Avg Losses >> G/D 1.5474/1.0387 [D-Real: 0.5517 D-Fake: 0.4870]\n",
            "Epoch 010 | ET 4.04 min | Avg Losses >> G/D 1.3845/1.0146 [D-Real: 0.5566 D-Fake: 0.4580]\n",
            "Epoch 011 | ET 4.45 min | Avg Losses >> G/D 1.4469/1.0249 [D-Real: 0.5532 D-Fake: 0.4717]\n",
            "Epoch 012 | ET 4.85 min | Avg Losses >> G/D 1.3631/1.1132 [D-Real: 0.5812 D-Fake: 0.5320]\n",
            "Epoch 013 | ET 5.25 min | Avg Losses >> G/D 1.2440/1.1300 [D-Real: 0.5931 D-Fake: 0.5368]\n",
            "Epoch 014 | ET 5.65 min | Avg Losses >> G/D 1.1447/1.1606 [D-Real: 0.6063 D-Fake: 0.5543]\n",
            "Epoch 015 | ET 6.05 min | Avg Losses >> G/D 1.3571/1.1309 [D-Real: 0.5816 D-Fake: 0.5493]\n",
            "Epoch 016 | ET 6.46 min | Avg Losses >> G/D 1.1798/1.1718 [D-Real: 0.6060 D-Fake: 0.5659]\n",
            "Epoch 017 | ET 6.86 min | Avg Losses >> G/D 1.0724/1.2011 [D-Real: 0.6219 D-Fake: 0.5792]\n",
            "Epoch 018 | ET 7.25 min | Avg Losses >> G/D 1.2546/1.1673 [D-Real: 0.5993 D-Fake: 0.5679]\n",
            "Epoch 019 | ET 7.66 min | Avg Losses >> G/D 1.1828/1.1549 [D-Real: 0.5968 D-Fake: 0.5581]\n",
            "Epoch 020 | ET 8.06 min | Avg Losses >> G/D 1.1037/1.1947 [D-Real: 0.6144 D-Fake: 0.5803]\n",
            "Epoch 021 | ET 8.46 min | Avg Losses >> G/D 1.1546/1.1799 [D-Real: 0.6059 D-Fake: 0.5740]\n",
            "Epoch 022 | ET 8.85 min | Avg Losses >> G/D 1.1249/1.1954 [D-Real: 0.6107 D-Fake: 0.5847]\n",
            "Epoch 023 | ET 9.25 min | Avg Losses >> G/D 1.1007/1.2006 [D-Real: 0.6131 D-Fake: 0.5876]\n",
            "Epoch 024 | ET 9.65 min | Avg Losses >> G/D 1.1050/1.2046 [D-Real: 0.6115 D-Fake: 0.5931]\n",
            "Epoch 025 | ET 10.05 min | Avg Losses >> G/D 1.0423/1.2447 [D-Real: 0.6316 D-Fake: 0.6131]\n",
            "Epoch 026 | ET 10.45 min | Avg Losses >> G/D 1.0152/1.2464 [D-Real: 0.6339 D-Fake: 0.6125]\n",
            "Epoch 027 | ET 10.85 min | Avg Losses >> G/D 1.0971/1.2398 [D-Real: 0.6236 D-Fake: 0.6162]\n",
            "Epoch 028 | ET 11.25 min | Avg Losses >> G/D 1.0271/1.2667 [D-Real: 0.6389 D-Fake: 0.6278]\n",
            "Epoch 029 | ET 11.65 min | Avg Losses >> G/D 0.9646/1.2803 [D-Real: 0.6469 D-Fake: 0.6335]\n",
            "Epoch 030 | ET 12.04 min | Avg Losses >> G/D 1.0568/1.2411 [D-Real: 0.6279 D-Fake: 0.6132]\n",
            "Epoch 031 | ET 12.44 min | Avg Losses >> G/D 1.0475/1.2481 [D-Real: 0.6297 D-Fake: 0.6184]\n",
            "Epoch 032 | ET 12.85 min | Avg Losses >> G/D 0.9678/1.2715 [D-Real: 0.6437 D-Fake: 0.6279]\n",
            "Epoch 033 | ET 13.25 min | Avg Losses >> G/D 1.0174/1.2485 [D-Real: 0.6331 D-Fake: 0.6154]\n",
            "Epoch 034 | ET 13.64 min | Avg Losses >> G/D 1.0644/1.2408 [D-Real: 0.6267 D-Fake: 0.6141]\n",
            "Epoch 035 | ET 14.04 min | Avg Losses >> G/D 1.0042/1.2533 [D-Real: 0.6349 D-Fake: 0.6183]\n",
            "Epoch 036 | ET 14.44 min | Avg Losses >> G/D 0.9983/1.2611 [D-Real: 0.6351 D-Fake: 0.6260]\n",
            "Epoch 037 | ET 14.84 min | Avg Losses >> G/D 1.0119/1.2566 [D-Real: 0.6349 D-Fake: 0.6216]\n",
            "Epoch 038 | ET 15.24 min | Avg Losses >> G/D 0.9616/1.2938 [D-Real: 0.6502 D-Fake: 0.6436]\n",
            "Epoch 039 | ET 15.63 min | Avg Losses >> G/D 0.9821/1.2885 [D-Real: 0.6478 D-Fake: 0.6407]\n",
            "Epoch 040 | ET 16.03 min | Avg Losses >> G/D 1.0426/1.2722 [D-Real: 0.6396 D-Fake: 0.6327]\n",
            "Epoch 041 | ET 16.42 min | Avg Losses >> G/D 0.9966/1.2780 [D-Real: 0.6424 D-Fake: 0.6356]\n",
            "Epoch 042 | ET 16.82 min | Avg Losses >> G/D 0.9323/1.2796 [D-Real: 0.6467 D-Fake: 0.6329]\n",
            "Epoch 043 | ET 17.22 min | Avg Losses >> G/D 0.9565/1.2787 [D-Real: 0.6433 D-Fake: 0.6354]\n",
            "Epoch 044 | ET 17.61 min | Avg Losses >> G/D 1.0677/1.2632 [D-Real: 0.6319 D-Fake: 0.6313]\n",
            "Epoch 045 | ET 18.02 min | Avg Losses >> G/D 0.9719/1.2801 [D-Real: 0.6455 D-Fake: 0.6347]\n",
            "Epoch 046 | ET 18.42 min | Avg Losses >> G/D 0.9109/1.3008 [D-Real: 0.6557 D-Fake: 0.6451]\n",
            "Epoch 047 | ET 18.82 min | Avg Losses >> G/D 0.9804/1.2870 [D-Real: 0.6466 D-Fake: 0.6404]\n",
            "Epoch 048 | ET 19.21 min | Avg Losses >> G/D 0.9346/1.3000 [D-Real: 0.6548 D-Fake: 0.6452]\n",
            "Epoch 049 | ET 19.61 min | Avg Losses >> G/D 0.9325/1.3028 [D-Real: 0.6552 D-Fake: 0.6476]\n",
            "Epoch 050 | ET 20.01 min | Avg Losses >> G/D 0.9538/1.3039 [D-Real: 0.6528 D-Fake: 0.6511]\n",
            "Epoch 051 | ET 20.41 min | Avg Losses >> G/D 0.9347/1.2942 [D-Real: 0.6512 D-Fake: 0.6431]\n",
            "Epoch 052 | ET 20.81 min | Avg Losses >> G/D 0.9343/1.2951 [D-Real: 0.6519 D-Fake: 0.6433]\n",
            "Epoch 053 | ET 21.21 min | Avg Losses >> G/D 0.9867/1.2782 [D-Real: 0.6418 D-Fake: 0.6363]\n",
            "Epoch 054 | ET 21.61 min | Avg Losses >> G/D 0.9275/1.2928 [D-Real: 0.6514 D-Fake: 0.6414]\n",
            "Epoch 055 | ET 22.00 min | Avg Losses >> G/D 0.9129/1.3015 [D-Real: 0.6543 D-Fake: 0.6471]\n",
            "Epoch 056 | ET 22.40 min | Avg Losses >> G/D 0.9786/1.2913 [D-Real: 0.6473 D-Fake: 0.6440]\n",
            "Epoch 057 | ET 22.80 min | Avg Losses >> G/D 0.9152/1.3046 [D-Real: 0.6566 D-Fake: 0.6480]\n",
            "Epoch 058 | ET 23.20 min | Avg Losses >> G/D 0.9481/1.2906 [D-Real: 0.6490 D-Fake: 0.6415]\n",
            "Epoch 059 | ET 23.59 min | Avg Losses >> G/D 0.9572/1.2909 [D-Real: 0.6503 D-Fake: 0.6406]\n",
            "Epoch 060 | ET 23.99 min | Avg Losses >> G/D 0.9440/1.2969 [D-Real: 0.6529 D-Fake: 0.6440]\n",
            "Epoch 061 | ET 24.39 min | Avg Losses >> G/D 0.9581/1.2858 [D-Real: 0.6461 D-Fake: 0.6397]\n",
            "Epoch 062 | ET 24.79 min | Avg Losses >> G/D 0.9145/1.3021 [D-Real: 0.6554 D-Fake: 0.6467]\n",
            "Epoch 063 | ET 25.18 min | Avg Losses >> G/D 0.9373/1.3080 [D-Real: 0.6560 D-Fake: 0.6519]\n",
            "Epoch 064 | ET 25.58 min | Avg Losses >> G/D 0.9757/1.2942 [D-Real: 0.6488 D-Fake: 0.6453]\n",
            "Epoch 065 | ET 25.98 min | Avg Losses >> G/D 0.9100/1.3034 [D-Real: 0.6571 D-Fake: 0.6463]\n",
            "Epoch 066 | ET 26.37 min | Avg Losses >> G/D 0.8999/1.3029 [D-Real: 0.6556 D-Fake: 0.6473]\n",
            "Epoch 067 | ET 26.77 min | Avg Losses >> G/D 0.9896/1.2983 [D-Real: 0.6490 D-Fake: 0.6493]\n",
            "Epoch 068 | ET 27.16 min | Avg Losses >> G/D 0.9383/1.2958 [D-Real: 0.6509 D-Fake: 0.6448]\n",
            "Epoch 069 | ET 27.56 min | Avg Losses >> G/D 0.8931/1.3097 [D-Real: 0.6585 D-Fake: 0.6512]\n",
            "Epoch 070 | ET 27.96 min | Avg Losses >> G/D 0.9297/1.3047 [D-Real: 0.6540 D-Fake: 0.6507]\n",
            "Epoch 071 | ET 28.36 min | Avg Losses >> G/D 0.9635/1.2974 [D-Real: 0.6496 D-Fake: 0.6478]\n",
            "Epoch 072 | ET 28.76 min | Avg Losses >> G/D 0.8771/1.3246 [D-Real: 0.6660 D-Fake: 0.6587]\n",
            "Epoch 073 | ET 29.16 min | Avg Losses >> G/D 0.9341/1.3129 [D-Real: 0.6585 D-Fake: 0.6544]\n",
            "Epoch 074 | ET 29.55 min | Avg Losses >> G/D 0.9759/1.2909 [D-Real: 0.6478 D-Fake: 0.6431]\n",
            "Epoch 075 | ET 29.95 min | Avg Losses >> G/D 0.9041/1.3048 [D-Real: 0.6563 D-Fake: 0.6485]\n",
            "Epoch 076 | ET 30.35 min | Avg Losses >> G/D 0.9237/1.3054 [D-Real: 0.6561 D-Fake: 0.6493]\n",
            "Epoch 077 | ET 30.75 min | Avg Losses >> G/D 0.9420/1.3014 [D-Real: 0.6525 D-Fake: 0.6489]\n",
            "Epoch 078 | ET 31.14 min | Avg Losses >> G/D 0.9277/1.3026 [D-Real: 0.6547 D-Fake: 0.6479]\n",
            "Epoch 079 | ET 31.54 min | Avg Losses >> G/D 0.9106/1.3015 [D-Real: 0.6532 D-Fake: 0.6484]\n",
            "Epoch 080 | ET 31.94 min | Avg Losses >> G/D 0.9204/1.3066 [D-Real: 0.6562 D-Fake: 0.6504]\n",
            "Epoch 081 | ET 32.34 min | Avg Losses >> G/D 0.9278/1.3048 [D-Real: 0.6536 D-Fake: 0.6511]\n",
            "Epoch 082 | ET 32.74 min | Avg Losses >> G/D 0.9219/1.3140 [D-Real: 0.6615 D-Fake: 0.6525]\n",
            "Epoch 083 | ET 33.13 min | Avg Losses >> G/D 0.9062/1.3165 [D-Real: 0.6602 D-Fake: 0.6562]\n",
            "Epoch 084 | ET 33.54 min | Avg Losses >> G/D 0.9308/1.3116 [D-Real: 0.6576 D-Fake: 0.6540]\n",
            "Epoch 085 | ET 33.93 min | Avg Losses >> G/D 0.9289/1.3099 [D-Real: 0.6584 D-Fake: 0.6515]\n",
            "Epoch 086 | ET 34.33 min | Avg Losses >> G/D 0.9384/1.3057 [D-Real: 0.6548 D-Fake: 0.6509]\n",
            "Epoch 087 | ET 34.73 min | Avg Losses >> G/D 0.8870/1.3154 [D-Real: 0.6607 D-Fake: 0.6547]\n",
            "Epoch 088 | ET 35.13 min | Avg Losses >> G/D 0.8831/1.3255 [D-Real: 0.6652 D-Fake: 0.6603]\n",
            "Epoch 089 | ET 35.52 min | Avg Losses >> G/D 0.9508/1.3092 [D-Real: 0.6563 D-Fake: 0.6530]\n",
            "Epoch 090 | ET 35.92 min | Avg Losses >> G/D 0.9210/1.3091 [D-Real: 0.6579 D-Fake: 0.6512]\n",
            "Epoch 091 | ET 36.31 min | Avg Losses >> G/D 0.9391/1.3061 [D-Real: 0.6573 D-Fake: 0.6488]\n",
            "Epoch 092 | ET 36.72 min | Avg Losses >> G/D 0.8820/1.3180 [D-Real: 0.6612 D-Fake: 0.6567]\n",
            "Epoch 093 | ET 37.12 min | Avg Losses >> G/D 0.9321/1.3120 [D-Real: 0.6576 D-Fake: 0.6544]\n",
            "Epoch 094 | ET 37.52 min | Avg Losses >> G/D 0.9313/1.2998 [D-Real: 0.6531 D-Fake: 0.6466]\n",
            "Epoch 095 | ET 37.92 min | Avg Losses >> G/D 0.9171/1.3113 [D-Real: 0.6574 D-Fake: 0.6539]\n",
            "Epoch 096 | ET 38.33 min | Avg Losses >> G/D 0.9269/1.3163 [D-Real: 0.6604 D-Fake: 0.6559]\n",
            "Epoch 097 | ET 38.75 min | Avg Losses >> G/D 0.9039/1.3131 [D-Real: 0.6580 D-Fake: 0.6550]\n",
            "Epoch 098 | ET 39.15 min | Avg Losses >> G/D 0.8736/1.3278 [D-Real: 0.6669 D-Fake: 0.6609]\n",
            "Epoch 099 | ET 39.56 min | Avg Losses >> G/D 0.9597/1.3157 [D-Real: 0.6587 D-Fake: 0.6570]\n",
            "Epoch 100 | ET 39.97 min | Avg Losses >> G/D 0.9009/1.3107 [D-Real: 0.6591 D-Fake: 0.6516]\n"
          ],
          "name": "stdout"
        }
      ]
    },
    {
      "cell_type": "code",
      "metadata": {
        "id": "R2lgtHeeF6xF",
        "colab_type": "code",
        "colab": {}
      },
      "source": [
        "import itertools"
      ],
      "execution_count": 0,
      "outputs": []
    },
    {
      "cell_type": "code",
      "metadata": {
        "id": "7R7f3PQYPVhs",
        "colab_type": "code",
        "outputId": "20770419-e289-4128-f0fd-34f7ddb72602",
        "colab": {
          "base_uri": "https://localhost:8080/",
          "height": 458
        }
      },
      "source": [
        "fig = plt.figure(figsize=(16, 6))\n",
        "\n",
        "## Plotting the losses\n",
        "ax = fig.add_subplot(1, 2, 1)\n",
        "g_losses = [item[0] for item in itertools.chain(*all_losses)]\n",
        "d_losses = [item[1]/2.0 for item in itertools.chain(*all_losses)]\n",
        "plt.plot(g_losses, label='Generator loss', alpha=0.95)\n",
        "plt.plot(d_losses, label='Discriminator loss', alpha=0.95)\n",
        "plt.legend(fontsize=20)\n",
        "ax.set_xlabel('Iteration', size=15)\n",
        "ax.set_ylabel('Loss', size=15)\n",
        "\n",
        "epochs = np.arange(1, 101)\n",
        "epoch2iter = lambda e: e*len(all_losses[-1])\n",
        "epoch_ticks = [1, 20, 40, 60, 80, 100]\n",
        "newpos = [epoch2iter(e) for e in epoch_ticks]\n",
        "ax2 = ax.twiny()\n",
        "ax2.set_xticks(newpos)\n",
        "ax2.set_xticklabels(epoch_ticks)\n",
        "ax2.xaxis.set_ticks_position('bottom')\n",
        "ax2.xaxis.set_label_position('bottom')\n",
        "ax2.spines['bottom'].set_position(('outward', 60))\n",
        "ax2.set_xlabel('Epoch', size=15)\n",
        "ax2.set_xlim(ax.get_xlim())\n",
        "ax.tick_params(axis='both', which='major', labelsize=15)\n",
        "ax2.tick_params(axis='both', which='major', labelsize=15)\n",
        "\n",
        "## Plotting the outputs of the discriminator\n",
        "ax = fig.add_subplot(1, 2, 2)\n",
        "d_vals_real = [item[0] for item in itertools.chain(*all_d_vals)]\n",
        "d_vals_fake = [item[1] for item in itertools.chain(*all_d_vals)]\n",
        "plt.plot(d_vals_real, alpha=0.75, label=r'Real: $D(\\mathbf{x})$')\n",
        "plt.plot(d_vals_fake, alpha=0.75, label=r'Fake: $D(G(\\mathbf{z}))$')\n",
        "plt.legend(fontsize=20)\n",
        "ax.set_xlabel('Iteration', size=15)\n",
        "ax.set_ylabel('Discriminator output', size=15)\n",
        "\n",
        "ax2 = ax.twiny()\n",
        "ax2.set_xticks(newpos)\n",
        "ax2.set_xticklabels(epoch_ticks)\n",
        "ax2.xaxis.set_ticks_position('bottom')\n",
        "ax2.xaxis.set_label_position('bottom')\n",
        "ax2.spines['bottom'].set_position(('outward', 60))\n",
        "ax2.set_xlabel('Epoch', size=15)\n",
        "ax2.set_xlim(ax.get_xlim())\n",
        "ax.tick_params(axis='both', which='major', labelsize=15)\n",
        "ax2.tick_params(axis='both', which='major', labelsize=15)\n",
        "\n",
        "\n",
        "#plt.savefig('images/ch17-gan-learning-curve.pdf')\n",
        "plt.show()"
      ],
      "execution_count": 0,
      "outputs": [
        {
          "output_type": "display_data",
          "data": {
            "image/png": "[encoded data removed]",
            "text/plain": [
              "<Figure size 1152x432 with 4 Axes>"
            ]
          },
          "metadata": {
            "tags": [],
            "needs_background": "light"
          }
        }
      ]
    },
    {
      "cell_type": "code",
      "metadata": {
        "id": "aQRqS5LNF3ng",
        "colab_type": "code",
        "outputId": "b8b9fb67-a11b-45cb-e25e-166fdf7bf7f2",
        "colab": {
          "base_uri": "https://localhost:8080/",
          "height": 783
        }
      },
      "source": [
        "selected_epochs = [1, 2, 4, 10, 50, 100]\n",
        "fig = plt.figure(figsize=(10, 14))\n",
        "for i,e in enumerate(selected_epochs):\n",
        "    for j in range(5):\n",
        "        ax = fig.add_subplot(6, 5, i*5+j+1)\n",
        "        ax.set_xticks([])\n",
        "        ax.set_yticks([])\n",
        "        if j == 0:\n",
        "            ax.text(\n",
        "                -0.06, 0.5, 'Epoch {}'.format(e),\n",
        "                rotation=90, size=18, color='red',\n",
        "                horizontalalignment='right',\n",
        "                verticalalignment='center', \n",
        "                transform=ax.transAxes)\n",
        "        \n",
        "        image = epoch_samples[e-1][j]\n",
        "        ax.imshow(image, cmap='gray_r')\n",
        "    \n",
        "#plt.savefig('images/ch17-vanila-gan-samples.pdf')\n",
        "plt.show()\n",
        "\n"
      ],
      "execution_count": 0,
      "outputs": [
        {
          "output_type": "display_data",
          "data": {
            "image/png": "[encoded data removed]",
            "text/plain": [
              "<Figure size 720x1008 with 30 Axes>"
            ]
          },
          "metadata": {
            "tags": []
          }
        }
      ]
    },
    {
      "cell_type": "code",
      "metadata": {
        "id": "HhkJ2eJKGBx6",
        "colab_type": "code",
        "colab": {}
      },
      "source": [
        ""
      ],
      "execution_count": 0,
      "outputs": []
    }
  ]
}