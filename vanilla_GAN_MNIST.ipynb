{
  "nbformat": 4,
  "nbformat_minor": 0,
  "metadata": {
    "colab": {
      "name": "vanilla GAN - MNIST.ipynb",
      "provenance": [],
      "collapsed_sections": []
    },
    "kernelspec": {
      "name": "python3",
      "display_name": "Python 3"
    },
    "accelerator": "GPU",
    "widgets": {
      "application/vnd.jupyter.widget-state+json": {
        "cc124648dca845a4a3d41359c1b6a507": {
          "model_module": "@jupyter-widgets/controls",
          "model_name": "HBoxModel",
          "state": {
            "_view_name": "HBoxView",
            "_dom_classes": [],
            "_model_name": "HBoxModel",
            "_view_module": "@jupyter-widgets/controls",
            "_model_module_version": "1.5.0",
            "_view_count": null,
            "_view_module_version": "1.5.0",
            "box_style": "",
            "layout": "IPY_MODEL_4e68439ff483420ba33ddab570ea59a4",
            "_model_module": "@jupyter-widgets/controls",
            "children": [
              "IPY_MODEL_45a40b845c124877b021234828d17340",
              "IPY_MODEL_51516b4a518e4b7fa5a873142e3f8ac0"
            ]
          }
        },
        "4e68439ff483420ba33ddab570ea59a4": {
          "model_module": "@jupyter-widgets/base",
          "model_name": "LayoutModel",
          "state": {
            "_view_name": "LayoutView",
            "grid_template_rows": null,
            "right": null,
            "justify_content": null,
            "_view_module": "@jupyter-widgets/base",
            "overflow": null,
            "_model_module_version": "1.2.0",
            "_view_count": null,
            "flex_flow": null,
            "width": null,
            "min_width": null,
            "border": null,
            "align_items": null,
            "bottom": null,
            "_model_module": "@jupyter-widgets/base",
            "top": null,
            "grid_column": null,
            "overflow_y": null,
            "overflow_x": null,
            "grid_auto_flow": null,
            "grid_area": null,
            "grid_template_columns": null,
            "flex": null,
            "_model_name": "LayoutModel",
            "justify_items": null,
            "grid_row": null,
            "max_height": null,
            "align_content": null,
            "visibility": null,
            "align_self": null,
            "height": null,
            "min_height": null,
            "padding": null,
            "grid_auto_rows": null,
            "grid_gap": null,
            "max_width": null,
            "order": null,
            "_view_module_version": "1.2.0",
            "grid_template_areas": null,
            "object_position": null,
            "object_fit": null,
            "grid_auto_columns": null,
            "margin": null,
            "display": null,
            "left": null
          }
        },
        "45a40b845c124877b021234828d17340": {
          "model_module": "@jupyter-widgets/controls",
          "model_name": "IntProgressModel",
          "state": {
            "_view_name": "ProgressView",
            "style": "IPY_MODEL_1f892e8340a041e3827d11d37c707404",
            "_dom_classes": [],
            "description": "Dl Completed...: 100%",
            "_model_name": "IntProgressModel",
            "bar_style": "success",
            "max": 4,
            "_view_module": "@jupyter-widgets/controls",
            "_model_module_version": "1.5.0",
            "value": 4,
            "_view_count": null,
            "_view_module_version": "1.5.0",
            "orientation": "horizontal",
            "min": 0,
            "description_tooltip": null,
            "_model_module": "@jupyter-widgets/controls",
            "layout": "IPY_MODEL_ea210d60f76048e8a78ab6f27f91334e"
          }
        },
        "51516b4a518e4b7fa5a873142e3f8ac0": {
          "model_module": "@jupyter-widgets/controls",
          "model_name": "HTMLModel",
          "state": {
            "_view_name": "HTMLView",
            "style": "IPY_MODEL_591e911b8ae8447ea6856cd57695870b",
            "_dom_classes": [],
            "description": "",
            "_model_name": "HTMLModel",
            "placeholder": "​",
            "_view_module": "@jupyter-widgets/controls",
            "_model_module_version": "1.5.0",
            "value": " 4/4 [1:26:12&lt;00:00, 1293.17s/ file]",
            "_view_count": null,
            "_view_module_version": "1.5.0",
            "description_tooltip": null,
            "_model_module": "@jupyter-widgets/controls",
            "layout": "IPY_MODEL_058f1c683e98493f8b62c16f0af6fb79"
          }
        },
        "1f892e8340a041e3827d11d37c707404": {
          "model_module": "@jupyter-widgets/controls",
          "model_name": "ProgressStyleModel",
          "state": {
            "_view_name": "StyleView",
            "_model_name": "ProgressStyleModel",
            "description_width": "initial",
            "_view_module": "@jupyter-widgets/base",
            "_model_module_version": "1.5.0",
            "_view_count": null,
            "_view_module_version": "1.2.0",
            "bar_color": null,
            "_model_module": "@jupyter-widgets/controls"
          }
        },
        "ea210d60f76048e8a78ab6f27f91334e": {
          "model_module": "@jupyter-widgets/base",
          "model_name": "LayoutModel",
          "state": {
            "_view_name": "LayoutView",
            "grid_template_rows": null,
            "right": null,
            "justify_content": null,
            "_view_module": "@jupyter-widgets/base",
            "overflow": null,
            "_model_module_version": "1.2.0",
            "_view_count": null,
            "flex_flow": null,
            "width": null,
            "min_width": null,
            "border": null,
            "align_items": null,
            "bottom": null,
            "_model_module": "@jupyter-widgets/base",
            "top": null,
            "grid_column": null,
            "overflow_y": null,
            "overflow_x": null,
            "grid_auto_flow": null,
            "grid_area": null,
            "grid_template_columns": null,
            "flex": null,
            "_model_name": "LayoutModel",
            "justify_items": null,
            "grid_row": null,
            "max_height": null,
            "align_content": null,
            "visibility": null,
            "align_self": null,
            "height": null,
            "min_height": null,
            "padding": null,
            "grid_auto_rows": null,
            "grid_gap": null,
            "max_width": null,
            "order": null,
            "_view_module_version": "1.2.0",
            "grid_template_areas": null,
            "object_position": null,
            "object_fit": null,
            "grid_auto_columns": null,
            "margin": null,
            "display": null,
            "left": null
          }
        },
        "591e911b8ae8447ea6856cd57695870b": {
          "model_module": "@jupyter-widgets/controls",
          "model_name": "DescriptionStyleModel",
          "state": {
            "_view_name": "StyleView",
            "_model_name": "DescriptionStyleModel",
            "description_width": "",
            "_view_module": "@jupyter-widgets/base",
            "_model_module_version": "1.5.0",
            "_view_count": null,
            "_view_module_version": "1.2.0",
            "_model_module": "@jupyter-widgets/controls"
          }
        },
        "058f1c683e98493f8b62c16f0af6fb79": {
          "model_module": "@jupyter-widgets/base",
          "model_name": "LayoutModel",
          "state": {
            "_view_name": "LayoutView",
            "grid_template_rows": null,
            "right": null,
            "justify_content": null,
            "_view_module": "@jupyter-widgets/base",
            "overflow": null,
            "_model_module_version": "1.2.0",
            "_view_count": null,
            "flex_flow": null,
            "width": null,
            "min_width": null,
            "border": null,
            "align_items": null,
            "bottom": null,
            "_model_module": "@jupyter-widgets/base",
            "top": null,
            "grid_column": null,
            "overflow_y": null,
            "overflow_x": null,
            "grid_auto_flow": null,
            "grid_area": null,
            "grid_template_columns": null,
            "flex": null,
            "_model_name": "LayoutModel",
            "justify_items": null,
            "grid_row": null,
            "max_height": null,
            "align_content": null,
            "visibility": null,
            "align_self": null,
            "height": null,
            "min_height": null,
            "padding": null,
            "grid_auto_rows": null,
            "grid_gap": null,
            "max_width": null,
            "order": null,
            "_view_module_version": "1.2.0",
            "grid_template_areas": null,
            "object_position": null,
            "object_fit": null,
            "grid_auto_columns": null,
            "margin": null,
            "display": null,
            "left": null
          }
        }
      }
    }
  },
  "cells": [
    {
      "cell_type": "code",
      "metadata": {
        "id": "JDir3RQVsvPT",
        "colab_type": "code",
        "colab": {}
      },
      "source": [
        "!pip install -q tensorflow-gpu==2.0.0"
      ],
      "execution_count": 0,
      "outputs": []
    },
    {
      "cell_type": "code",
      "metadata": {
        "id": "yOEf7iurtPSF",
        "colab_type": "code",
        "outputId": "2949a01e-fd15-4f27-87ce-f106c975e2ff",
        "colab": {
          "base_uri": "https://localhost:8080/",
          "height": 34
        }
      },
      "source": [
        "import tensorflow as tf\n",
        "import itertools\n",
        "import warnings \n",
        "\n",
        "warnings.filterwarnings('ignore')\n",
        "print(tf.__version__)"
      ],
      "execution_count": 1,
      "outputs": [
        {
          "output_type": "stream",
          "text": [
            "2.2.0-rc3\n"
          ],
          "name": "stdout"
        }
      ]
    },
    {
      "cell_type": "code",
      "metadata": {
        "id": "8eHlbmL1to0a",
        "colab_type": "code",
        "outputId": "6c25e5b2-7b74-4bdd-e750-6a4d5eac9f5e",
        "colab": {
          "base_uri": "https://localhost:8080/",
          "height": 86
        }
      },
      "source": [
        "print(\"GPU Availabe:\", tf.test.is_gpu_available())"
      ],
      "execution_count": 2,
      "outputs": [
        {
          "output_type": "stream",
          "text": [
            "WARNING:tensorflow:From <ipython-input-2-6677213edc6f>:1: is_gpu_available (from tensorflow.python.framework.test_util) is deprecated and will be removed in a future version.\n",
            "Instructions for updating:\n",
            "Use `tf.config.list_physical_devices('GPU')` instead.\n",
            "GPU Availabe: True\n"
          ],
          "name": "stdout"
        }
      ]
    },
    {
      "cell_type": "code",
      "metadata": {
        "id": "yuWgE-Owtwl7",
        "colab_type": "code",
        "outputId": "26015f28-93ed-4412-c882-938ca069675b",
        "colab": {
          "base_uri": "https://localhost:8080/",
          "height": 34
        }
      },
      "source": [
        "if tf.test.is_gpu_available():\n",
        "  device_name = tf.test.gpu_device_name()\n",
        "else:\n",
        "  device_name = '/CPU:0'\n",
        "print(device_name)"
      ],
      "execution_count": 3,
      "outputs": [
        {
          "output_type": "stream",
          "text": [
            "/device:GPU:0\n"
          ],
          "name": "stdout"
        }
      ]
    },
    {
      "cell_type": "code",
      "metadata": {
        "id": "2r56nkUeuS9m",
        "colab_type": "code",
        "colab": {}
      },
      "source": [
        "import tensorflow_datasets as tfds\n",
        "import numpy as np\n",
        "import matplotlib.pyplot as plt"
      ],
      "execution_count": 0,
      "outputs": []
    },
    {
      "cell_type": "code",
      "metadata": {
        "id": "zGAXZHbCvsnT",
        "colab_type": "code",
        "colab": {}
      },
      "source": [
        "## define a function for the generator\n",
        "def make_generator_network(\n",
        "        num_hidden_layers=1,\n",
        "        num_hidden_units=100,\n",
        "        num_output_units=784):\n",
        "  \n",
        "  model = tf.keras.Sequential()\n",
        "  for i in range(num_hidden_layers):\n",
        "    model.add(\n",
        "        tf.keras.layers.Dense(\n",
        "            units=num_hidden_units, use_bias=False))\n",
        "    model.add(tf.keras.layers.LeakyReLU())\n",
        "  \n",
        "  model.add(tf.keras.layers.Dense(units=num_output_units, activation='tanh'))\n",
        "  return model\n",
        "\n",
        "## define a function for the discriminator\n",
        "def make_discriminator_network(\n",
        "      num_hidden_layers=1, \n",
        "      num_hidden_units=100, \n",
        "      num_output_units=1):\n",
        "  \n",
        "  model = tf.keras.Sequential()\n",
        "  for i in range(num_hidden_layers):\n",
        "    model.add(tf.keras.layers.Dense(\n",
        "        units=num_hidden_units))\n",
        "    model.add(tf.keras.layers.LeakyReLU())\n",
        "    model.add(tf.keras.layers.Dropout(rate=0.5))\n",
        "  \n",
        "  model.add(\n",
        "      tf.keras.layers.Dense(units=num_output_units, activation=None))\n",
        "  return model\n",
        "\n"
      ],
      "execution_count": 0,
      "outputs": []
    },
    {
      "cell_type": "code",
      "metadata": {
        "id": "BDy7kumjyAxZ",
        "colab_type": "code",
        "colab": {}
      },
      "source": [
        "image_size = (28, 28)\n",
        "z_size = 20\n",
        "mode_z = 'uniform'\n",
        "gen_hidden_layers = 1\n",
        "gen_hidden_size = 100\n",
        "disc_hidden_layers = 1\n",
        "disc_hidden_size = 100"
      ],
      "execution_count": 0,
      "outputs": []
    },
    {
      "cell_type": "code",
      "metadata": {
        "id": "mdGsmpl3ylVM",
        "colab_type": "code",
        "colab": {}
      },
      "source": [
        "tf.random.set_seed(1)"
      ],
      "execution_count": 0,
      "outputs": []
    },
    {
      "cell_type": "code",
      "metadata": {
        "id": "0OtKdw5oypSi",
        "colab_type": "code",
        "outputId": "b84a2d7e-4e59-4406-a937-e1437d3278a9",
        "colab": {
          "base_uri": "https://localhost:8080/",
          "height": 260
        }
      },
      "source": [
        "gen_model = make_generator_network(\n",
        "    num_hidden_layers = gen_hidden_layers,\n",
        "    num_hidden_units = gen_hidden_size,\n",
        "    num_output_units = np.prod(image_size))\n",
        "\n",
        "gen_model.build(input_shape=(None, z_size))\n",
        "gen_model.summary()"
      ],
      "execution_count": 8,
      "outputs": [
        {
          "output_type": "stream",
          "text": [
            "Model: \"sequential\"\n",
            "_________________________________________________________________\n",
            "Layer (type)                 Output Shape              Param #   \n",
            "=================================================================\n",
            "dense (Dense)                multiple                  2000      \n",
            "_________________________________________________________________\n",
            "leaky_re_lu (LeakyReLU)      multiple                  0         \n",
            "_________________________________________________________________\n",
            "dense_1 (Dense)              multiple                  79184     \n",
            "=================================================================\n",
            "Total params: 81,184\n",
            "Trainable params: 81,184\n",
            "Non-trainable params: 0\n",
            "_________________________________________________________________\n"
          ],
          "name": "stdout"
        }
      ]
    },
    {
      "cell_type": "code",
      "metadata": {
        "id": "r0vjQjfE03Fm",
        "colab_type": "code",
        "outputId": "adf9a52e-1c31-4f3c-ec9c-8223e1e9a93e",
        "colab": {
          "base_uri": "https://localhost:8080/",
          "height": 294
        }
      },
      "source": [
        "disc_model = make_discriminator_network(\n",
        "    num_hidden_layers = disc_hidden_layers,\n",
        "    num_hidden_units = disc_hidden_size)\n",
        "\n",
        "disc_model.build(input_shape=(None, np.prod(image_size)))\n",
        "disc_model.summary()"
      ],
      "execution_count": 9,
      "outputs": [
        {
          "output_type": "stream",
          "text": [
            "Model: \"sequential_1\"\n",
            "_________________________________________________________________\n",
            "Layer (type)                 Output Shape              Param #   \n",
            "=================================================================\n",
            "dense_2 (Dense)              multiple                  78500     \n",
            "_________________________________________________________________\n",
            "leaky_re_lu_1 (LeakyReLU)    multiple                  0         \n",
            "_________________________________________________________________\n",
            "dropout (Dropout)            multiple                  0         \n",
            "_________________________________________________________________\n",
            "dense_3 (Dense)              multiple                  101       \n",
            "=================================================================\n",
            "Total params: 78,601\n",
            "Trainable params: 78,601\n",
            "Non-trainable params: 0\n",
            "_________________________________________________________________\n"
          ],
          "name": "stdout"
        }
      ]
    },
    {
      "cell_type": "code",
      "metadata": {
        "id": "nHwCdwUz1M4E",
        "colab_type": "code",
        "outputId": "371d8429-64e8-43d6-832b-77ae6c19c4c4",
        "colab": {
          "base_uri": "https://localhost:8080/",
          "height": 205,
          "referenced_widgets": [
            "cc124648dca845a4a3d41359c1b6a507",
            "4e68439ff483420ba33ddab570ea59a4",
            "45a40b845c124877b021234828d17340",
            "51516b4a518e4b7fa5a873142e3f8ac0",
            "1f892e8340a041e3827d11d37c707404",
            "ea210d60f76048e8a78ab6f27f91334e",
            "591e911b8ae8447ea6856cd57695870b",
            "058f1c683e98493f8b62c16f0af6fb79"
          ]
        }
      },
      "source": [
        "## Defining the training dataset\n",
        "mnist_bldr = tfds.builder('mnist')\n",
        "mnist_bldr.download_and_prepare()\n",
        "mnist = mnist_bldr.as_dataset(shuffle_files=False)"
      ],
      "execution_count": 10,
      "outputs": [
        {
          "output_type": "stream",
          "text": [
            "WARNING:absl:Dataset mnist is hosted on GCS. It will automatically be downloaded to your\n",
            "local data directory. If you'd instead prefer to read directly from our public\n",
            "GCS bucket (recommended if you're running on GCP), you can instead set\n",
            "data_dir=gs://tfds-data/datasets.\n",
            "\n"
          ],
          "name": "stderr"
        },
        {
          "output_type": "stream",
          "text": [
            "\u001b[1mDownloading and preparing dataset mnist/3.0.0 (download: 11.06 MiB, generated: Unknown size, total: 11.06 MiB) to /root/tensorflow_datasets/mnist/3.0.0...\u001b[0m\n"
          ],
          "name": "stdout"
        },
        {
          "output_type": "display_data",
          "data": {
            "application/vnd.jupyter.widget-view+json": {
              "model_id": "cc124648dca845a4a3d41359c1b6a507",
              "version_minor": 0,
              "version_major": 2
            },
            "text/plain": [
              "HBox(children=(IntProgress(value=0, description='Dl Completed...', max=4, style=ProgressStyle(description_widt…"
            ]
          },
          "metadata": {
            "tags": []
          }
        },
        {
          "output_type": "stream",
          "text": [
            "\n",
            "\n",
            "\u001b[1mDataset mnist downloaded and prepared to /root/tensorflow_datasets/mnist/3.0.0. Subsequent calls will reuse this data.\u001b[0m\n"
          ],
          "name": "stdout"
        }
      ]
    },
    {
      "cell_type": "code",
      "metadata": {
        "id": "2hjScW4y2Q-E",
        "colab_type": "code",
        "colab": {}
      },
      "source": [
        "def preprocess(ex, mode='uniform'):\n",
        "  image = ex['image']\n",
        "  image = tf.image.convert_image_dtype(image, tf.float32)\n",
        "  image = tf.reshape(image, [-1])\n",
        "  image = image*2-1.0\n",
        "  if mode == 'uniform':\n",
        "    input_z = tf.random.uniform(\n",
        "        shape=(z_size,), minval=-1.0, maxval=1.0)\n",
        "  elif mode == 'normal':\n",
        "    input_z = tf.random_normal(shape=(z_size,))\n",
        "  \n",
        "  return input_z, image\n",
        "\n",
        "mnist_trainset = mnist['train']\n",
        "mnist_trainset = mnist_trainset.map(preprocess)\n"
      ],
      "execution_count": 0,
      "outputs": []
    },
    {
      "cell_type": "code",
      "metadata": {
        "id": "1BeiYLmN3a4-",
        "colab_type": "code",
        "outputId": "6530e84d-04f3-45cd-d53d-911bfc6cf00b",
        "colab": {
          "base_uri": "https://localhost:8080/",
          "height": 52
        }
      },
      "source": [
        "mnist_trainset = mnist_trainset.batch(32, drop_remainder=True)\n",
        "input_z, input_real = next(iter(mnist_trainset))\n",
        "print('input-z -- shape: ', input_z.shape)\n",
        "print('input-real -- shape: ', input_real.shape)"
      ],
      "execution_count": 12,
      "outputs": [
        {
          "output_type": "stream",
          "text": [
            "input-z -- shape:  (32, 20)\n",
            "input-real -- shape:  (32, 784)\n"
          ],
          "name": "stdout"
        }
      ]
    },
    {
      "cell_type": "code",
      "metadata": {
        "id": "KCm9YPb15skg",
        "colab_type": "code",
        "outputId": "a55a0aaa-6fa1-48b2-d304-f850be8bf7c0",
        "colab": {
          "base_uri": "https://localhost:8080/",
          "height": 34
        }
      },
      "source": [
        "g_output = gen_model(input_z)\n",
        "print('Output of G -- shape: ', g_output.shape)"
      ],
      "execution_count": 13,
      "outputs": [
        {
          "output_type": "stream",
          "text": [
            "Output of G -- shape:  (32, 784)\n"
          ],
          "name": "stdout"
        }
      ]
    },
    {
      "cell_type": "code",
      "metadata": {
        "id": "xdtQIchU6FyE",
        "colab_type": "code",
        "outputId": "d5fe409b-01f5-401a-8ab8-0793dcddeaf4",
        "colab": {
          "base_uri": "https://localhost:8080/",
          "height": 52
        }
      },
      "source": [
        "d_logits_real = disc_model(input_real)\n",
        "d_logits_fake = disc_model(g_output)\n",
        "print('Disc. (real) -- shape: ', d_logits_real.shape)\n",
        "print('Disc. (fake) -- shape: ', d_logits_fake.shape)"
      ],
      "execution_count": 14,
      "outputs": [
        {
          "output_type": "stream",
          "text": [
            "Disc. (real) -- shape:  (32, 1)\n",
            "Disc. (fake) -- shape:  (32, 1)\n"
          ],
          "name": "stdout"
        }
      ]
    },
    {
      "cell_type": "code",
      "metadata": {
        "id": "Ou1U8DDh73DW",
        "colab_type": "code",
        "outputId": "2f2cee77-434c-40b2-9f1d-f22b3d869863",
        "colab": {
          "base_uri": "https://localhost:8080/",
          "height": 52
        }
      },
      "source": [
        "## Training the GAN model\n",
        "loss_fn = tf.keras.losses.BinaryCrossentropy(from_logits=True)\n",
        "\n",
        "## Loss for the generator\n",
        "g_labels_real = tf.ones_like(d_logits_fake)\n",
        "g_loss = loss_fn(y_true=g_labels_real, y_pred=d_logits_fake)\n",
        "print('Generator Loss: {:.4f}'.format(g_loss))\n",
        "\n",
        "## Loss for the discriminator\n",
        "d_labels_real = tf.ones_like(d_logits_real)\n",
        "d_labels_fake = tf.zeros_like(d_logits_fake)\n",
        "\n",
        "d_loss_real = loss_fn(y_true=d_labels_real, y_pred=d_logits_real)\n",
        "d_loss_fake = loss_fn(y_true=d_labels_fake, y_pred=d_logits_fake)\n",
        "print('Discriminator Losses: Real {:.4f} Fake {:.4f}'.format(d_loss_real.numpy(), d_loss_fake.numpy()))\n"
      ],
      "execution_count": 15,
      "outputs": [
        {
          "output_type": "stream",
          "text": [
            "Generator Loss: 0.7355\n",
            "Discriminator Losses: Real 1.5073 Fake 0.6583\n"
          ],
          "name": "stdout"
        }
      ]
    },
    {
      "cell_type": "code",
      "metadata": {
        "id": "D9SCf6F8L-xr",
        "colab_type": "code",
        "colab": {}
      },
      "source": [
        "import time \n",
        "\n",
        "num_epochs = 200\n",
        "batch_size = 64\n",
        "image_size = (28, 28)\n",
        "z_size = 20\n",
        "mode_z = 'uniform'\n",
        "gen_hidden_layers = 1\n",
        "gen_hidden_size = 100\n",
        "disc_hidden_layers = 1\n",
        "disc_hidden_size = 100"
      ],
      "execution_count": 0,
      "outputs": []
    },
    {
      "cell_type": "code",
      "metadata": {
        "id": "kOketG-4MmqP",
        "colab_type": "code",
        "colab": {}
      },
      "source": [
        "tf.random.set_seed(1)\n",
        "np.random.seed(1)"
      ],
      "execution_count": 0,
      "outputs": []
    },
    {
      "cell_type": "code",
      "metadata": {
        "id": "2V4Ey9RbMtUp",
        "colab_type": "code",
        "colab": {}
      },
      "source": [
        "if mode_z == 'uniform':\n",
        "  fixed_z = tf.random.uniform(\n",
        "      shape=(batch_size, z_size),\n",
        "      minval = -1, maxval = 1)\n",
        "elif mode_z == 'normal':\n",
        "  fixed_z = tf.random.uniform(\n",
        "      shape=(batch_size, z_size))\n",
        "\n",
        "def create_samples(g_model, input_z):\n",
        "  g_ouput = g_model(input_z, training=False)\n",
        "  images = tf.reshape(g_output, shape=(batch_size, *image_size))\n",
        "  return (images+1)/2.0\n"
      ],
      "execution_count": 0,
      "outputs": []
    },
    {
      "cell_type": "code",
      "metadata": {
        "id": "B-HF7GlWNt45",
        "colab_type": "code",
        "colab": {}
      },
      "source": [
        "## Set-up the dateset\n",
        "mnist_trainset = mnist['train']\n",
        "mnist_trainset = mnist_trainset.map(\n",
        "    lambda ex: preprocess(ex, mode=mode_z))\n",
        "mnist_trainset = mnist_trainset.shuffle(10000)\n",
        "mnist_trainset = mnist_trainset.batch(\n",
        "    batch_size, drop_remainder=True)\n"
      ],
      "execution_count": 0,
      "outputs": []
    },
    {
      "cell_type": "code",
      "metadata": {
        "id": "HmHUbog1OSwN",
        "colab_type": "code",
        "outputId": "e7509178-f923-4107-cb78-dd25a74813c6",
        "colab": {
          "base_uri": "https://localhost:8080/",
          "height": 1000
        }
      },
      "source": [
        "## Set-up the model\n",
        "with tf.device(device_name):\n",
        "  gen_model = make_generator_network(\n",
        "    num_hidden_layers = gen_hidden_layers,\n",
        "    num_hidden_units = gen_hidden_size,\n",
        "    num_output_units = np.prod(image_size))\n",
        "  gen_model.build(input_shape=(None, z_size))\n",
        "\n",
        "  disc_model = make_discriminator_network(\n",
        "    num_hidden_layers = disc_hidden_layers,\n",
        "    num_hidden_units = disc_hidden_size)\n",
        "  disc_model.build(input_shape=(None, np.prod(image_size)))\n",
        "\n",
        "## Loss function and optimizers\n",
        "loss_fn = tf.keras.losses.BinaryCrossentropy(from_logits=True)\n",
        "g_optimizer = tf.keras.optimizers.Adam()\n",
        "d_optimizer = tf.keras.optimizers.Adam()\n",
        "\n",
        "all_losses = []\n",
        "all_d_vals = []\n",
        "epoch_samples = []\n",
        "\n",
        "start_time = time.time()\n",
        "for epoch in range(1, num_epochs+1):\n",
        "\n",
        "  epoch_losses, epoch_d_vals = [], []\n",
        "\n",
        "  for i, (input_z, input_real) in enumerate(mnist_trainset):\n",
        "\n",
        "    ## compute generator's losses\n",
        "    with tf.GradientTape() as g_tape:\n",
        "      g_output = gen_model(input_z)\n",
        "      d_logits_fake = disc_model(g_output, training=True)\n",
        "\n",
        "      labels_real = tf.ones_like(d_logits_fake)\n",
        "      g_loss = loss_fn(y_true=labels_real, y_pred=d_logits_fake)\n",
        "\n",
        "    ## compute the gradients of g_loss\n",
        "    g_grads = g_tape.gradient(g_loss, gen_model.trainable_variables)\n",
        "    ## optimization: apply the gradients\n",
        "    g_optimizer.apply_gradients(\n",
        "            grads_and_vars=zip(g_grads, gen_model.trainable_variables))\n",
        "    \n",
        "    ## compute discriminator's loss\n",
        "    with tf.GradientTape() as d_tape:\n",
        "      d_logits_real = disc_model(input_real, training=True)\n",
        "      d_labels_real = tf.ones_like(d_logits_real)\n",
        "\n",
        "      d_loss_real = loss_fn(y_true=d_labels_real, y_pred=d_logits_real)\n",
        "      \n",
        "      d_logits_fake = disc_model(g_output, training=True)\n",
        "      d_labels_fake = tf.zeros_like(d_logits_fake)\n",
        "      \n",
        "      d_loss_fake = loss_fn(y_true=d_labels_fake, y_pred=d_logits_fake)\n",
        "\n",
        "      # add both losses\n",
        "      d_loss = d_loss_real + d_loss_fake\n",
        "    \n",
        "    ## compute the gradients of d_loss\n",
        "    d_grads = d_tape.gradient(d_loss, disc_model.trainable_variables)\n",
        "    ## optimization: apply the gradients\n",
        "    d_optimizer.apply_gradients(\n",
        "        grads_and_vars=zip(d_grads, disc_model.trainable_variables))\n",
        "    \n",
        "    epoch_losses.append(\n",
        "        (g_loss.numpy(), d_loss.numpy(), \n",
        "         d_loss_real.numpy(), d_loss_fake.numpy()))\n",
        "    \n",
        "    d_probs_real = tf.reduce_mean(\n",
        "                        tf.sigmoid(d_logits_real))\n",
        "    d_probs_fake = tf.reduce_mean(\n",
        "                        tf.sigmoid(d_logits_fake))\n",
        "    epoch_d_vals.append((d_probs_real.numpy(), d_probs_fake.numpy()))\n",
        "\n",
        "  all_losses.append(epoch_losses)\n",
        "  all_d_vals.append(epoch_d_vals)\n",
        "\n",
        "  print(\n",
        "        'Epoch {:03d} | ET {:.2f} min | Avg Losses >>'\n",
        "        ' G/D {:.4f}/{:.4f} [D-Real: {:.4f} D-Fake: {:.4f}]'\n",
        "        .format(\n",
        "            epoch, (time.time() - start_time)/60, \n",
        "            *list(np.mean(all_losses[-1], axis=0))))\n",
        "  epoch_samples.append(create_samples(gen_model, fixed_z).numpy())\n",
        "    "
      ],
      "execution_count": 24,
      "outputs": [
        {
          "output_type": "stream",
          "text": [
            "Epoch 001 | ET 0.40 min | Avg Losses >> G/D 2.8640/0.2891 [D-Real: 0.0333 D-Fake: 0.2558]\n",
            "Epoch 002 | ET 0.79 min | Avg Losses >> G/D 5.1475/0.3390 [D-Real: 0.1120 D-Fake: 0.2270]\n",
            "Epoch 003 | ET 1.19 min | Avg Losses >> G/D 3.1356/0.7034 [D-Real: 0.3189 D-Fake: 0.3845]\n",
            "Epoch 004 | ET 1.58 min | Avg Losses >> G/D 2.4504/0.7803 [D-Real: 0.3965 D-Fake: 0.3838]\n",
            "Epoch 005 | ET 1.98 min | Avg Losses >> G/D 2.3233/0.7646 [D-Real: 0.4174 D-Fake: 0.3472]\n",
            "Epoch 006 | ET 2.37 min | Avg Losses >> G/D 1.6731/0.9442 [D-Real: 0.5119 D-Fake: 0.4324]\n",
            "Epoch 007 | ET 2.77 min | Avg Losses >> G/D 1.6044/0.9576 [D-Real: 0.5183 D-Fake: 0.4394]\n",
            "Epoch 008 | ET 3.19 min | Avg Losses >> G/D 1.4281/1.0404 [D-Real: 0.5636 D-Fake: 0.4768]\n",
            "Epoch 009 | ET 3.61 min | Avg Losses >> G/D 1.2929/1.0932 [D-Real: 0.5899 D-Fake: 0.5033]\n",
            "Epoch 010 | ET 4.02 min | Avg Losses >> G/D 1.4645/1.0325 [D-Real: 0.5491 D-Fake: 0.4834]\n",
            "Epoch 011 | ET 4.43 min | Avg Losses >> G/D 1.4302/1.0133 [D-Real: 0.5539 D-Fake: 0.4594]\n",
            "Epoch 012 | ET 4.84 min | Avg Losses >> G/D 1.3622/1.0568 [D-Real: 0.5637 D-Fake: 0.4931]\n",
            "Epoch 013 | ET 5.24 min | Avg Losses >> G/D 1.3099/1.1291 [D-Real: 0.5875 D-Fake: 0.5416]\n",
            "Epoch 014 | ET 5.65 min | Avg Losses >> G/D 1.2086/1.1709 [D-Real: 0.6043 D-Fake: 0.5666]\n",
            "Epoch 015 | ET 6.05 min | Avg Losses >> G/D 1.1294/1.1840 [D-Real: 0.6139 D-Fake: 0.5701]\n",
            "Epoch 016 | ET 6.46 min | Avg Losses >> G/D 1.2661/1.1528 [D-Real: 0.5944 D-Fake: 0.5584]\n",
            "Epoch 017 | ET 6.86 min | Avg Losses >> G/D 1.1527/1.1823 [D-Real: 0.6129 D-Fake: 0.5694]\n",
            "Epoch 018 | ET 7.26 min | Avg Losses >> G/D 1.0987/1.2023 [D-Real: 0.6185 D-Fake: 0.5837]\n",
            "Epoch 019 | ET 7.65 min | Avg Losses >> G/D 1.0700/1.2294 [D-Real: 0.6285 D-Fake: 0.6009]\n",
            "Epoch 020 | ET 8.04 min | Avg Losses >> G/D 1.1963/1.1984 [D-Real: 0.6093 D-Fake: 0.5891]\n",
            "Epoch 021 | ET 8.44 min | Avg Losses >> G/D 1.1342/1.1923 [D-Real: 0.6093 D-Fake: 0.5830]\n",
            "Epoch 022 | ET 8.82 min | Avg Losses >> G/D 1.0256/1.2274 [D-Real: 0.6273 D-Fake: 0.6001]\n",
            "Epoch 023 | ET 9.21 min | Avg Losses >> G/D 1.1500/1.1847 [D-Real: 0.6088 D-Fake: 0.5759]\n",
            "Epoch 024 | ET 9.61 min | Avg Losses >> G/D 1.1345/1.1897 [D-Real: 0.6079 D-Fake: 0.5818]\n",
            "Epoch 025 | ET 10.01 min | Avg Losses >> G/D 1.0222/1.2297 [D-Real: 0.6257 D-Fake: 0.6040]\n",
            "Epoch 026 | ET 10.40 min | Avg Losses >> G/D 1.1130/1.2221 [D-Real: 0.6195 D-Fake: 0.6026]\n",
            "Epoch 027 | ET 10.80 min | Avg Losses >> G/D 1.0910/1.2164 [D-Real: 0.6163 D-Fake: 0.6001]\n",
            "Epoch 028 | ET 11.19 min | Avg Losses >> G/D 1.0320/1.2380 [D-Real: 0.6294 D-Fake: 0.6086]\n",
            "Epoch 029 | ET 11.58 min | Avg Losses >> G/D 1.0140/1.2496 [D-Real: 0.6337 D-Fake: 0.6158]\n",
            "Epoch 030 | ET 11.97 min | Avg Losses >> G/D 1.0566/1.2404 [D-Real: 0.6279 D-Fake: 0.6124]\n",
            "Epoch 031 | ET 12.37 min | Avg Losses >> G/D 1.0374/1.2397 [D-Real: 0.6275 D-Fake: 0.6122]\n",
            "Epoch 032 | ET 12.76 min | Avg Losses >> G/D 1.0247/1.2400 [D-Real: 0.6291 D-Fake: 0.6109]\n",
            "Epoch 033 | ET 13.15 min | Avg Losses >> G/D 1.0048/1.2457 [D-Real: 0.6312 D-Fake: 0.6146]\n",
            "Epoch 034 | ET 13.54 min | Avg Losses >> G/D 1.0262/1.2660 [D-Real: 0.6371 D-Fake: 0.6289]\n",
            "Epoch 035 | ET 13.94 min | Avg Losses >> G/D 0.9854/1.2876 [D-Real: 0.6467 D-Fake: 0.6408]\n",
            "Epoch 036 | ET 14.33 min | Avg Losses >> G/D 0.9685/1.2935 [D-Real: 0.6495 D-Fake: 0.6440]\n",
            "Epoch 037 | ET 14.72 min | Avg Losses >> G/D 0.9606/1.2866 [D-Real: 0.6468 D-Fake: 0.6398]\n",
            "Epoch 038 | ET 15.12 min | Avg Losses >> G/D 0.9550/1.2776 [D-Real: 0.6454 D-Fake: 0.6322]\n",
            "Epoch 039 | ET 15.51 min | Avg Losses >> G/D 0.9943/1.2655 [D-Real: 0.6367 D-Fake: 0.6289]\n",
            "Epoch 040 | ET 15.90 min | Avg Losses >> G/D 1.0184/1.2661 [D-Real: 0.6360 D-Fake: 0.6301]\n",
            "Epoch 041 | ET 16.30 min | Avg Losses >> G/D 0.9621/1.2785 [D-Real: 0.6421 D-Fake: 0.6364]\n",
            "Epoch 042 | ET 16.69 min | Avg Losses >> G/D 0.9347/1.2981 [D-Real: 0.6536 D-Fake: 0.6445]\n",
            "Epoch 043 | ET 17.08 min | Avg Losses >> G/D 0.9712/1.2890 [D-Real: 0.6477 D-Fake: 0.6413]\n",
            "Epoch 044 | ET 17.47 min | Avg Losses >> G/D 1.0232/1.2647 [D-Real: 0.6361 D-Fake: 0.6286]\n",
            "Epoch 045 | ET 17.86 min | Avg Losses >> G/D 0.9560/1.2771 [D-Real: 0.6435 D-Fake: 0.6336]\n",
            "Epoch 046 | ET 18.25 min | Avg Losses >> G/D 0.9113/1.3066 [D-Real: 0.6582 D-Fake: 0.6483]\n",
            "Epoch 047 | ET 18.64 min | Avg Losses >> G/D 0.9306/1.3169 [D-Real: 0.6617 D-Fake: 0.6552]\n",
            "Epoch 048 | ET 19.03 min | Avg Losses >> G/D 0.9995/1.2790 [D-Real: 0.6420 D-Fake: 0.6370]\n",
            "Epoch 049 | ET 19.42 min | Avg Losses >> G/D 0.9528/1.2938 [D-Real: 0.6502 D-Fake: 0.6436]\n",
            "Epoch 050 | ET 19.81 min | Avg Losses >> G/D 0.9375/1.2979 [D-Real: 0.6519 D-Fake: 0.6460]\n",
            "Epoch 051 | ET 20.20 min | Avg Losses >> G/D 0.9400/1.2937 [D-Real: 0.6531 D-Fake: 0.6405]\n",
            "Epoch 052 | ET 20.60 min | Avg Losses >> G/D 0.9907/1.2946 [D-Real: 0.6470 D-Fake: 0.6476]\n",
            "Epoch 053 | ET 20.99 min | Avg Losses >> G/D 0.9579/1.3015 [D-Real: 0.6523 D-Fake: 0.6492]\n",
            "Epoch 054 | ET 21.38 min | Avg Losses >> G/D 0.9238/1.2957 [D-Real: 0.6511 D-Fake: 0.6447]\n",
            "Epoch 055 | ET 21.77 min | Avg Losses >> G/D 0.9336/1.2936 [D-Real: 0.6499 D-Fake: 0.6437]\n",
            "Epoch 056 | ET 22.16 min | Avg Losses >> G/D 0.9521/1.2961 [D-Real: 0.6504 D-Fake: 0.6457]\n",
            "Epoch 057 | ET 22.56 min | Avg Losses >> G/D 0.9268/1.3060 [D-Real: 0.6581 D-Fake: 0.6479]\n",
            "Epoch 058 | ET 22.94 min | Avg Losses >> G/D 0.9530/1.2974 [D-Real: 0.6497 D-Fake: 0.6478]\n",
            "Epoch 059 | ET 23.34 min | Avg Losses >> G/D 0.9226/1.3023 [D-Real: 0.6567 D-Fake: 0.6456]\n",
            "Epoch 060 | ET 23.73 min | Avg Losses >> G/D 0.9483/1.2992 [D-Real: 0.6492 D-Fake: 0.6500]\n",
            "Epoch 061 | ET 24.12 min | Avg Losses >> G/D 0.9578/1.2863 [D-Real: 0.6435 D-Fake: 0.6427]\n",
            "Epoch 062 | ET 24.51 min | Avg Losses >> G/D 0.9140/1.3087 [D-Real: 0.6556 D-Fake: 0.6531]\n",
            "Epoch 063 | ET 24.90 min | Avg Losses >> G/D 0.9095/1.3129 [D-Real: 0.6584 D-Fake: 0.6545]\n",
            "Epoch 064 | ET 25.29 min | Avg Losses >> G/D 0.9170/1.3162 [D-Real: 0.6597 D-Fake: 0.6566]\n",
            "Epoch 065 | ET 25.69 min | Avg Losses >> G/D 0.9333/1.3029 [D-Real: 0.6553 D-Fake: 0.6476]\n",
            "Epoch 066 | ET 26.09 min | Avg Losses >> G/D 0.9266/1.3104 [D-Real: 0.6570 D-Fake: 0.6534]\n",
            "Epoch 067 | ET 26.48 min | Avg Losses >> G/D 0.9126/1.3154 [D-Real: 0.6600 D-Fake: 0.6554]\n",
            "Epoch 068 | ET 26.87 min | Avg Losses >> G/D 0.9758/1.3018 [D-Real: 0.6516 D-Fake: 0.6502]\n",
            "Epoch 069 | ET 27.26 min | Avg Losses >> G/D 0.9369/1.3049 [D-Real: 0.6543 D-Fake: 0.6505]\n",
            "Epoch 070 | ET 27.65 min | Avg Losses >> G/D 0.9184/1.3100 [D-Real: 0.6579 D-Fake: 0.6521]\n",
            "Epoch 071 | ET 28.04 min | Avg Losses >> G/D 0.9291/1.3063 [D-Real: 0.6550 D-Fake: 0.6513]\n",
            "Epoch 072 | ET 28.44 min | Avg Losses >> G/D 0.9104/1.3105 [D-Real: 0.6594 D-Fake: 0.6512]\n",
            "Epoch 073 | ET 28.83 min | Avg Losses >> G/D 0.9170/1.3147 [D-Real: 0.6582 D-Fake: 0.6565]\n",
            "Epoch 074 | ET 29.22 min | Avg Losses >> G/D 0.9206/1.3079 [D-Real: 0.6570 D-Fake: 0.6509]\n",
            "Epoch 075 | ET 29.61 min | Avg Losses >> G/D 0.9419/1.3100 [D-Real: 0.6547 D-Fake: 0.6554]\n",
            "Epoch 076 | ET 30.00 min | Avg Losses >> G/D 0.9021/1.3230 [D-Real: 0.6646 D-Fake: 0.6584]\n",
            "Epoch 077 | ET 30.39 min | Avg Losses >> G/D 0.9179/1.3192 [D-Real: 0.6591 D-Fake: 0.6601]\n",
            "Epoch 078 | ET 30.79 min | Avg Losses >> G/D 0.9245/1.3149 [D-Real: 0.6583 D-Fake: 0.6566]\n",
            "Epoch 079 | ET 31.18 min | Avg Losses >> G/D 0.9192/1.3084 [D-Real: 0.6553 D-Fake: 0.6531]\n",
            "Epoch 080 | ET 31.57 min | Avg Losses >> G/D 0.9357/1.3077 [D-Real: 0.6549 D-Fake: 0.6528]\n",
            "Epoch 081 | ET 31.95 min | Avg Losses >> G/D 0.9044/1.3158 [D-Real: 0.6612 D-Fake: 0.6546]\n",
            "Epoch 082 | ET 32.34 min | Avg Losses >> G/D 0.9085/1.3233 [D-Real: 0.6645 D-Fake: 0.6588]\n",
            "Epoch 083 | ET 32.73 min | Avg Losses >> G/D 0.9719/1.3007 [D-Real: 0.6519 D-Fake: 0.6489]\n",
            "Epoch 084 | ET 33.11 min | Avg Losses >> G/D 0.8956/1.3117 [D-Real: 0.6594 D-Fake: 0.6523]\n",
            "Epoch 085 | ET 33.50 min | Avg Losses >> G/D 0.9357/1.3076 [D-Real: 0.6562 D-Fake: 0.6513]\n",
            "Epoch 086 | ET 33.89 min | Avg Losses >> G/D 0.9491/1.3090 [D-Real: 0.6550 D-Fake: 0.6540]\n",
            "Epoch 087 | ET 34.28 min | Avg Losses >> G/D 0.8803/1.3214 [D-Real: 0.6638 D-Fake: 0.6576]\n",
            "Epoch 088 | ET 34.66 min | Avg Losses >> G/D 0.9397/1.3128 [D-Real: 0.6580 D-Fake: 0.6548]\n",
            "Epoch 089 | ET 35.05 min | Avg Losses >> G/D 0.9411/1.3025 [D-Real: 0.6545 D-Fake: 0.6480]\n",
            "Epoch 090 | ET 35.43 min | Avg Losses >> G/D 0.8851/1.3229 [D-Real: 0.6621 D-Fake: 0.6608]\n",
            "Epoch 091 | ET 35.83 min | Avg Losses >> G/D 0.9329/1.3054 [D-Real: 0.6551 D-Fake: 0.6504]\n",
            "Epoch 092 | ET 36.21 min | Avg Losses >> G/D 0.9060/1.3178 [D-Real: 0.6594 D-Fake: 0.6584]\n",
            "Epoch 093 | ET 36.60 min | Avg Losses >> G/D 0.9213/1.3167 [D-Real: 0.6596 D-Fake: 0.6570]\n",
            "Epoch 094 | ET 36.99 min | Avg Losses >> G/D 0.9337/1.3100 [D-Real: 0.6563 D-Fake: 0.6538]\n",
            "Epoch 095 | ET 37.37 min | Avg Losses >> G/D 0.8908/1.3232 [D-Real: 0.6647 D-Fake: 0.6585]\n",
            "Epoch 096 | ET 37.76 min | Avg Losses >> G/D 0.9241/1.3218 [D-Real: 0.6618 D-Fake: 0.6599]\n",
            "Epoch 097 | ET 38.15 min | Avg Losses >> G/D 0.9165/1.3119 [D-Real: 0.6585 D-Fake: 0.6534]\n",
            "Epoch 098 | ET 38.53 min | Avg Losses >> G/D 0.9016/1.3135 [D-Real: 0.6604 D-Fake: 0.6531]\n",
            "Epoch 099 | ET 38.92 min | Avg Losses >> G/D 0.9694/1.3047 [D-Real: 0.6533 D-Fake: 0.6514]\n",
            "Epoch 100 | ET 39.31 min | Avg Losses >> G/D 0.9081/1.3176 [D-Real: 0.6619 D-Fake: 0.6557]\n",
            "Epoch 101 | ET 39.69 min | Avg Losses >> G/D 0.8962/1.3245 [D-Real: 0.6650 D-Fake: 0.6594]\n",
            "Epoch 102 | ET 40.08 min | Avg Losses >> G/D 0.9338/1.3178 [D-Real: 0.6613 D-Fake: 0.6566]\n",
            "Epoch 103 | ET 40.46 min | Avg Losses >> G/D 0.9058/1.3173 [D-Real: 0.6617 D-Fake: 0.6556]\n",
            "Epoch 104 | ET 40.86 min | Avg Losses >> G/D 0.8995/1.3174 [D-Real: 0.6635 D-Fake: 0.6539]\n",
            "Epoch 105 | ET 41.25 min | Avg Losses >> G/D 0.9504/1.3082 [D-Real: 0.6540 D-Fake: 0.6541]\n",
            "Epoch 106 | ET 41.63 min | Avg Losses >> G/D 0.8796/1.3152 [D-Real: 0.6610 D-Fake: 0.6542]\n",
            "Epoch 107 | ET 42.02 min | Avg Losses >> G/D 0.9130/1.3168 [D-Real: 0.6585 D-Fake: 0.6582]\n",
            "Epoch 108 | ET 42.41 min | Avg Losses >> G/D 0.9677/1.3032 [D-Real: 0.6528 D-Fake: 0.6504]\n",
            "Epoch 109 | ET 42.79 min | Avg Losses >> G/D 0.8876/1.3195 [D-Real: 0.6606 D-Fake: 0.6589]\n",
            "Epoch 110 | ET 43.17 min | Avg Losses >> G/D 0.8804/1.3346 [D-Real: 0.6685 D-Fake: 0.6662]\n",
            "Epoch 111 | ET 43.56 min | Avg Losses >> G/D 0.9516/1.3038 [D-Real: 0.6542 D-Fake: 0.6497]\n",
            "Epoch 112 | ET 43.94 min | Avg Losses >> G/D 0.8808/1.3206 [D-Real: 0.6630 D-Fake: 0.6576]\n",
            "Epoch 113 | ET 44.33 min | Avg Losses >> G/D 1.0038/1.3036 [D-Real: 0.6520 D-Fake: 0.6517]\n",
            "Epoch 114 | ET 44.72 min | Avg Losses >> G/D 0.8807/1.3166 [D-Real: 0.6623 D-Fake: 0.6543]\n",
            "Epoch 115 | ET 45.10 min | Avg Losses >> G/D 0.9507/1.3237 [D-Real: 0.6620 D-Fake: 0.6617]\n",
            "Epoch 116 | ET 45.48 min | Avg Losses >> G/D 0.9274/1.3123 [D-Real: 0.6581 D-Fake: 0.6542]\n",
            "Epoch 117 | ET 45.87 min | Avg Losses >> G/D 0.8721/1.3268 [D-Real: 0.6661 D-Fake: 0.6607]\n",
            "Epoch 118 | ET 46.26 min | Avg Losses >> G/D 0.9386/1.3152 [D-Real: 0.6582 D-Fake: 0.6570]\n",
            "Epoch 119 | ET 46.65 min | Avg Losses >> G/D 0.9182/1.3243 [D-Real: 0.6647 D-Fake: 0.6596]\n",
            "Epoch 120 | ET 47.04 min | Avg Losses >> G/D 0.9250/1.3218 [D-Real: 0.6628 D-Fake: 0.6590]\n",
            "Epoch 121 | ET 47.42 min | Avg Losses >> G/D 0.8912/1.3248 [D-Real: 0.6658 D-Fake: 0.6591]\n",
            "Epoch 122 | ET 47.81 min | Avg Losses >> G/D 0.9219/1.3243 [D-Real: 0.6623 D-Fake: 0.6620]\n",
            "Epoch 123 | ET 48.19 min | Avg Losses >> G/D 0.9202/1.3220 [D-Real: 0.6621 D-Fake: 0.6600]\n",
            "Epoch 124 | ET 48.58 min | Avg Losses >> G/D 0.9110/1.3196 [D-Real: 0.6634 D-Fake: 0.6562]\n",
            "Epoch 125 | ET 48.97 min | Avg Losses >> G/D 0.9287/1.3179 [D-Real: 0.6599 D-Fake: 0.6580]\n",
            "Epoch 126 | ET 49.35 min | Avg Losses >> G/D 0.9019/1.3243 [D-Real: 0.6637 D-Fake: 0.6607]\n",
            "Epoch 127 | ET 49.74 min | Avg Losses >> G/D 0.9162/1.3207 [D-Real: 0.6612 D-Fake: 0.6594]\n",
            "Epoch 128 | ET 50.12 min | Avg Losses >> G/D 0.9108/1.3260 [D-Real: 0.6637 D-Fake: 0.6624]\n",
            "Epoch 129 | ET 50.51 min | Avg Losses >> G/D 0.8977/1.3208 [D-Real: 0.6639 D-Fake: 0.6569]\n",
            "Epoch 130 | ET 50.89 min | Avg Losses >> G/D 0.9031/1.3230 [D-Real: 0.6644 D-Fake: 0.6585]\n",
            "Epoch 131 | ET 51.28 min | Avg Losses >> G/D 0.9188/1.3257 [D-Real: 0.6636 D-Fake: 0.6621]\n",
            "Epoch 132 | ET 51.68 min | Avg Losses >> G/D 0.9012/1.3246 [D-Real: 0.6659 D-Fake: 0.6587]\n",
            "Epoch 133 | ET 52.06 min | Avg Losses >> G/D 0.8675/1.3267 [D-Real: 0.6661 D-Fake: 0.6606]\n",
            "Epoch 134 | ET 52.45 min | Avg Losses >> G/D 0.9510/1.3207 [D-Real: 0.6598 D-Fake: 0.6609]\n",
            "Epoch 135 | ET 52.84 min | Avg Losses >> G/D 0.9033/1.3230 [D-Real: 0.6653 D-Fake: 0.6578]\n",
            "Epoch 136 | ET 53.22 min | Avg Losses >> G/D 0.9338/1.3175 [D-Real: 0.6617 D-Fake: 0.6558]\n",
            "Epoch 137 | ET 53.61 min | Avg Losses >> G/D 0.9748/1.3117 [D-Real: 0.6575 D-Fake: 0.6542]\n",
            "Epoch 138 | ET 53.99 min | Avg Losses >> G/D 0.9023/1.3216 [D-Real: 0.6638 D-Fake: 0.6578]\n",
            "Epoch 139 | ET 54.38 min | Avg Losses >> G/D 0.9222/1.3234 [D-Real: 0.6613 D-Fake: 0.6621]\n",
            "Epoch 140 | ET 54.76 min | Avg Losses >> G/D 0.9201/1.3151 [D-Real: 0.6598 D-Fake: 0.6553]\n",
            "Epoch 141 | ET 55.15 min | Avg Losses >> G/D 0.9044/1.3208 [D-Real: 0.6644 D-Fake: 0.6564]\n",
            "Epoch 142 | ET 55.54 min | Avg Losses >> G/D 0.9498/1.3116 [D-Real: 0.6585 D-Fake: 0.6531]\n",
            "Epoch 143 | ET 55.92 min | Avg Losses >> G/D 0.9247/1.3169 [D-Real: 0.6603 D-Fake: 0.6566]\n",
            "Epoch 144 | ET 56.31 min | Avg Losses >> G/D 0.8989/1.3310 [D-Real: 0.6671 D-Fake: 0.6639]\n",
            "Epoch 145 | ET 56.70 min | Avg Losses >> G/D 0.9044/1.3346 [D-Real: 0.6707 D-Fake: 0.6640]\n",
            "Epoch 146 | ET 57.09 min | Avg Losses >> G/D 0.9288/1.3161 [D-Real: 0.6602 D-Fake: 0.6559]\n",
            "Epoch 147 | ET 57.47 min | Avg Losses >> G/D 0.9203/1.3226 [D-Real: 0.6624 D-Fake: 0.6601]\n",
            "Epoch 148 | ET 57.86 min | Avg Losses >> G/D 0.8839/1.3313 [D-Real: 0.6677 D-Fake: 0.6636]\n",
            "Epoch 149 | ET 58.25 min | Avg Losses >> G/D 0.9009/1.3326 [D-Real: 0.6683 D-Fake: 0.6643]\n",
            "Epoch 150 | ET 58.64 min | Avg Losses >> G/D 0.9494/1.3226 [D-Real: 0.6635 D-Fake: 0.6591]\n",
            "Epoch 151 | ET 59.02 min | Avg Losses >> G/D 0.9003/1.3219 [D-Real: 0.6651 D-Fake: 0.6568]\n",
            "Epoch 152 | ET 59.42 min | Avg Losses >> G/D 0.9332/1.3242 [D-Real: 0.6633 D-Fake: 0.6610]\n",
            "Epoch 153 | ET 59.81 min | Avg Losses >> G/D 0.9334/1.3208 [D-Real: 0.6606 D-Fake: 0.6602]\n",
            "Epoch 154 | ET 60.20 min | Avg Losses >> G/D 0.9020/1.3306 [D-Real: 0.6666 D-Fake: 0.6640]\n",
            "Epoch 155 | ET 60.59 min | Avg Losses >> G/D 0.9375/1.3208 [D-Real: 0.6605 D-Fake: 0.6602]\n",
            "Epoch 156 | ET 60.98 min | Avg Losses >> G/D 0.8995/1.3305 [D-Real: 0.6670 D-Fake: 0.6635]\n",
            "Epoch 157 | ET 61.37 min | Avg Losses >> G/D 0.9276/1.3176 [D-Real: 0.6589 D-Fake: 0.6587]\n",
            "Epoch 158 | ET 61.77 min | Avg Losses >> G/D 0.9383/1.3190 [D-Real: 0.6631 D-Fake: 0.6559]\n",
            "Epoch 159 | ET 62.16 min | Avg Losses >> G/D 0.9086/1.3231 [D-Real: 0.6625 D-Fake: 0.6606]\n",
            "Epoch 160 | ET 62.55 min | Avg Losses >> G/D 0.9274/1.3116 [D-Real: 0.6588 D-Fake: 0.6528]\n",
            "Epoch 161 | ET 62.94 min | Avg Losses >> G/D 0.9407/1.3134 [D-Real: 0.6584 D-Fake: 0.6550]\n",
            "Epoch 162 | ET 63.34 min | Avg Losses >> G/D 0.9284/1.3147 [D-Real: 0.6611 D-Fake: 0.6537]\n",
            "Epoch 163 | ET 63.73 min | Avg Losses >> G/D 0.9417/1.3221 [D-Real: 0.6635 D-Fake: 0.6586]\n",
            "Epoch 164 | ET 64.12 min | Avg Losses >> G/D 0.9159/1.3171 [D-Real: 0.6596 D-Fake: 0.6574]\n",
            "Epoch 165 | ET 64.51 min | Avg Losses >> G/D 0.9218/1.3181 [D-Real: 0.6614 D-Fake: 0.6567]\n",
            "Epoch 166 | ET 64.90 min | Avg Losses >> G/D 0.9231/1.3202 [D-Real: 0.6621 D-Fake: 0.6581]\n",
            "Epoch 167 | ET 65.30 min | Avg Losses >> G/D 0.9051/1.3251 [D-Real: 0.6637 D-Fake: 0.6614]\n",
            "Epoch 168 | ET 65.69 min | Avg Losses >> G/D 0.9616/1.3142 [D-Real: 0.6578 D-Fake: 0.6564]\n",
            "Epoch 169 | ET 66.08 min | Avg Losses >> G/D 0.9194/1.3105 [D-Real: 0.6586 D-Fake: 0.6519]\n",
            "Epoch 170 | ET 66.47 min | Avg Losses >> G/D 0.9410/1.3186 [D-Real: 0.6619 D-Fake: 0.6567]\n",
            "Epoch 171 | ET 66.87 min | Avg Losses >> G/D 0.9146/1.3235 [D-Real: 0.6645 D-Fake: 0.6590]\n",
            "Epoch 172 | ET 67.27 min | Avg Losses >> G/D 0.9203/1.3163 [D-Real: 0.6621 D-Fake: 0.6543]\n",
            "Epoch 173 | ET 67.66 min | Avg Losses >> G/D 0.9383/1.3186 [D-Real: 0.6627 D-Fake: 0.6560]\n",
            "Epoch 174 | ET 68.05 min | Avg Losses >> G/D 0.9071/1.3280 [D-Real: 0.6666 D-Fake: 0.6614]\n",
            "Epoch 175 | ET 68.44 min | Avg Losses >> G/D 0.9476/1.3222 [D-Real: 0.6626 D-Fake: 0.6596]\n",
            "Epoch 176 | ET 68.84 min | Avg Losses >> G/D 0.9214/1.3257 [D-Real: 0.6638 D-Fake: 0.6619]\n",
            "Epoch 177 | ET 69.23 min | Avg Losses >> G/D 0.9063/1.3259 [D-Real: 0.6631 D-Fake: 0.6629]\n",
            "Epoch 178 | ET 69.62 min | Avg Losses >> G/D 0.9676/1.3128 [D-Real: 0.6587 D-Fake: 0.6541]\n",
            "Epoch 179 | ET 70.02 min | Avg Losses >> G/D 0.8988/1.3241 [D-Real: 0.6645 D-Fake: 0.6596]\n",
            "Epoch 180 | ET 70.42 min | Avg Losses >> G/D 0.9181/1.3349 [D-Real: 0.6693 D-Fake: 0.6655]\n",
            "Epoch 181 | ET 70.81 min | Avg Losses >> G/D 0.9629/1.3144 [D-Real: 0.6589 D-Fake: 0.6555]\n",
            "Epoch 182 | ET 71.21 min | Avg Losses >> G/D 0.8819/1.3290 [D-Real: 0.6674 D-Fake: 0.6616]\n",
            "Epoch 183 | ET 71.61 min | Avg Losses >> G/D 0.9665/1.3238 [D-Real: 0.6616 D-Fake: 0.6622]\n",
            "Epoch 184 | ET 72.02 min | Avg Losses >> G/D 0.8997/1.3254 [D-Real: 0.6662 D-Fake: 0.6592]\n",
            "Epoch 185 | ET 72.41 min | Avg Losses >> G/D 0.9375/1.3237 [D-Real: 0.6641 D-Fake: 0.6596]\n",
            "Epoch 186 | ET 72.81 min | Avg Losses >> G/D 0.9361/1.3223 [D-Real: 0.6647 D-Fake: 0.6576]\n",
            "Epoch 187 | ET 73.21 min | Avg Losses >> G/D 0.9138/1.3262 [D-Real: 0.6651 D-Fake: 0.6612]\n",
            "Epoch 188 | ET 73.60 min | Avg Losses >> G/D 0.9467/1.3169 [D-Real: 0.6620 D-Fake: 0.6550]\n",
            "Epoch 189 | ET 74.00 min | Avg Losses >> G/D 0.9190/1.3163 [D-Real: 0.6605 D-Fake: 0.6558]\n",
            "Epoch 190 | ET 74.40 min | Avg Losses >> G/D 0.9497/1.3201 [D-Real: 0.6626 D-Fake: 0.6575]\n",
            "Epoch 191 | ET 74.79 min | Avg Losses >> G/D 0.9513/1.3051 [D-Real: 0.6557 D-Fake: 0.6494]\n",
            "Epoch 192 | ET 75.19 min | Avg Losses >> G/D 0.9190/1.3212 [D-Real: 0.6623 D-Fake: 0.6589]\n",
            "Epoch 193 | ET 75.59 min | Avg Losses >> G/D 0.9242/1.3230 [D-Real: 0.6650 D-Fake: 0.6580]\n",
            "Epoch 194 | ET 75.99 min | Avg Losses >> G/D 0.8883/1.3300 [D-Real: 0.6660 D-Fake: 0.6640]\n",
            "Epoch 195 | ET 76.39 min | Avg Losses >> G/D 1.0040/1.3099 [D-Real: 0.6550 D-Fake: 0.6549]\n",
            "Epoch 196 | ET 76.79 min | Avg Losses >> G/D 0.9076/1.3183 [D-Real: 0.6635 D-Fake: 0.6548]\n",
            "Epoch 197 | ET 77.20 min | Avg Losses >> G/D 0.9322/1.3289 [D-Real: 0.6644 D-Fake: 0.6644]\n",
            "Epoch 198 | ET 77.59 min | Avg Losses >> G/D 0.9039/1.3195 [D-Real: 0.6628 D-Fake: 0.6568]\n",
            "Epoch 199 | ET 77.99 min | Avg Losses >> G/D 0.9464/1.3296 [D-Real: 0.6661 D-Fake: 0.6635]\n",
            "Epoch 200 | ET 78.40 min | Avg Losses >> G/D 0.9336/1.3201 [D-Real: 0.6602 D-Fake: 0.6599]\n"
          ],
          "name": "stdout"
        }
      ]
    },
    {
      "cell_type": "code",
      "metadata": {
        "id": "7R7f3PQYPVhs",
        "colab_type": "code",
        "outputId": "84346db8-4437-4fa2-81bb-f8670d4ffa10",
        "colab": {
          "base_uri": "https://localhost:8080/",
          "height": 458
        }
      },
      "source": [
        "fig = plt.figure(figsize=(16, 6))\n",
        "\n",
        "## Plotting the losses\n",
        "ax = fig.add_subplot(1, 2, 1)\n",
        "g_losses = [item[0] for item in itertools.chain(*all_losses)]\n",
        "d_losses = [item[1]/2.0 for item in itertools.chain(*all_losses)]\n",
        "plt.plot(g_losses, label='Generator loss', alpha=0.95)\n",
        "plt.plot(d_losses, label='Discriminator loss', alpha=0.95)\n",
        "plt.legend(fontsize=20)\n",
        "ax.set_xlabel('Iteration', size=15)\n",
        "ax.set_ylabel('Loss', size=15)\n",
        "\n",
        "epochs = np.arange(1, 201)\n",
        "epoch2iter = lambda e: e*len(all_losses[-1])\n",
        "epoch_ticks = [1, 40, 80, 120, 160, 200]\n",
        "newpos = [epoch2iter(e) for e in epoch_ticks]\n",
        "ax2 = ax.twiny()\n",
        "ax2.set_xticks(newpos)\n",
        "ax2.set_xticklabels(epoch_ticks)\n",
        "ax2.xaxis.set_ticks_position('bottom')\n",
        "ax2.xaxis.set_label_position('bottom')\n",
        "ax2.spines['bottom'].set_position(('outward', 60))\n",
        "ax2.set_xlabel('Epoch', size=15)\n",
        "ax2.set_xlim(ax.get_xlim())\n",
        "ax.tick_params(axis='both', which='major', labelsize=15)\n",
        "ax2.tick_params(axis='both', which='major', labelsize=15)\n",
        "\n",
        "## Plotting the outputs of the discriminator\n",
        "ax = fig.add_subplot(1, 2, 2)\n",
        "d_vals_real = [item[0] for item in itertools.chain(*all_d_vals)]\n",
        "d_vals_fake = [item[1] for item in itertools.chain(*all_d_vals)]\n",
        "plt.plot(d_vals_real, alpha=0.75, label=r'Real: $D(\\mathbf{x})$')\n",
        "plt.plot(d_vals_fake, alpha=0.75, label=r'Fake: $D(G(\\mathbf{z}))$')\n",
        "plt.legend(fontsize=20)\n",
        "ax.set_xlabel('Iteration', size=15)\n",
        "ax.set_ylabel('Discriminator output', size=15)\n",
        "\n",
        "ax2 = ax.twiny()\n",
        "ax2.set_xticks(newpos)\n",
        "ax2.set_xticklabels(epoch_ticks)\n",
        "ax2.xaxis.set_ticks_position('bottom')\n",
        "ax2.xaxis.set_label_position('bottom')\n",
        "ax2.spines['bottom'].set_position(('outward', 60))\n",
        "ax2.set_xlabel('Epoch', size=15)\n",
        "ax2.set_xlim(ax.get_xlim())\n",
        "ax.tick_params(axis='both', which='major', labelsize=15)\n",
        "ax2.tick_params(axis='both', which='major', labelsize=15)\n",
        "\n",
        "\n",
        "#plt.savefig('images/ch17-gan-learning-curve.pdf')\n",
        "plt.show()"
      ],
      "execution_count": 27,
      "outputs": [
        {
          "output_type": "display_data",
          "data": {
            "image/png": "[encoded data removed]",
            "text/plain": [
              "<Figure size 1152x432 with 4 Axes>"
            ]
          },
          "metadata": {
            "tags": [],
            "needs_background": "light"
          }
        }
      ]
    },
    {
      "cell_type": "code",
      "metadata": {
        "id": "aQRqS5LNF3ng",
        "colab_type": "code",
        "outputId": "6cbf39aa-5bdc-4f75-90fa-54801aed96ac",
        "colab": {
          "base_uri": "https://localhost:8080/",
          "height": 782
        }
      },
      "source": [
        "selected_epochs = [1, 40, 80, 120, 160, 200]\n",
        "fig = plt.figure(figsize=(10, 14))\n",
        "for i,e in enumerate(selected_epochs):\n",
        "    for j in range(5):\n",
        "        ax = fig.add_subplot(6, 5, i*5+j+1)\n",
        "        ax.set_xticks([])\n",
        "        ax.set_yticks([])\n",
        "        if j == 0:\n",
        "            ax.text(\n",
        "                -0.06, 0.5, 'Epoch {}'.format(e),\n",
        "                rotation=90, size=18, color='red',\n",
        "                horizontalalignment='right',\n",
        "                verticalalignment='center', \n",
        "                transform=ax.transAxes)\n",
        "        \n",
        "        image = epoch_samples[e-1][j]\n",
        "        ax.imshow(image, cmap='gray_r')\n",
        "    \n",
        "#plt.savefig('images/ch17-vanila-gan-samples.pdf')\n",
        "plt.show()\n",
        "\n"
      ],
      "execution_count": 28,
      "outputs": [
        {
          "output_type": "display_data",
          "data": {
            "image/png": "[encoded data removed]",
            "text/plain": [
              "<Figure size 720x1008 with 30 Axes>"
            ]
          },
          "metadata": {
            "tags": []
          }
        }
      ]
    },
    {
      "cell_type": "code",
      "metadata": {
        "id": "HhkJ2eJKGBx6",
        "colab_type": "code",
        "colab": {}
      },
      "source": [
        ""
      ],
      "execution_count": 0,
      "outputs": []
    }
  ]
}